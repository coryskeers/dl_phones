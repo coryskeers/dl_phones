{
  "nbformat": 4,
  "nbformat_minor": 0,
  "metadata": {
    "colab": {
      "name": "g2p.ipynb",
      "provenance": [],
      "authorship_tag": "ABX9TyPyMHoh7Cg4dPH1lOTGDwvM",
      "include_colab_link": true
    },
    "kernelspec": {
      "name": "python3",
      "display_name": "Python 3"
    }
  },
  "cells": [
    {
      "cell_type": "markdown",
      "metadata": {
        "id": "view-in-github",
        "colab_type": "text"
      },
      "source": [
        "<a href=\"https://colab.research.google.com/github/coryskeers/dl_phones/blob/master/g2p.ipynb\" target=\"_parent\"><img src=\"https://colab.research.google.com/assets/colab-badge.svg\" alt=\"Open In Colab\"/></a>"
      ]
    },
    {
      "cell_type": "code",
      "metadata": {
        "id": "GVa56WFUUUsU",
        "colab_type": "code",
        "colab": {
          "base_uri": "https://localhost:8080/",
          "height": 578
        },
        "outputId": "370dcba3-644b-443f-b2dc-d6aa50b91df4"
      },
      "source": [
        "!wget http://svn.code.sf.net/p/cmusphinx/code/trunk/cmudict/cmudict-0.7b.symbols\n",
        "!wget http://svn.code.sf.net/p/cmusphinx/code/trunk/cmudict/cmudict-0.7b.phones\n",
        "!wget http://svn.code.sf.net/p/cmusphinx/code/trunk/cmudict/cmudict-0.7b\n",
        "\n",
        "# Build our phoneme descriptions\n",
        "with open('cmudict-0.7b.phones') as phonefile:\n",
        "  phone_defs = {}\n",
        "  for line in phonefile:\n",
        "    split = line.split()\n",
        "      phone_defs[split[0]] = split[1]\n",
        "\n",
        "# Get all symbol combos and create an indexer\n",
        "with open('cmudict-0.7b.symbols') as symfile:\n",
        "  phone_index = {}\n",
        "  index_phone = {}\n",
        "  i = 0\n",
        "  for line in symfile:\n",
        "    phone_index[line.strip()] = i\n",
        "    index_phone[i] = line.strip()\n",
        "    i += 1\n",
        "\n"
      ],
      "execution_count": 1,
      "outputs": [
        {
          "output_type": "stream",
          "text": [
            "--2020-02-19 02:07:40--  http://svn.code.sf.net/p/cmusphinx/code/trunk/cmudict/cmudict-0.7b.symbols\n",
            "Resolving svn.code.sf.net (svn.code.sf.net)... 216.105.38.17\n",
            "Connecting to svn.code.sf.net (svn.code.sf.net)|216.105.38.17|:80... connected.\n",
            "HTTP request sent, awaiting response... 200 OK\n",
            "Length: 281 [text/plain]\n",
            "Saving to: ‘cmudict-0.7b.symbols’\n",
            "\n",
            "\rcmudict-0.7b.symbol   0%[                    ]       0  --.-KB/s               \rcmudict-0.7b.symbol 100%[===================>]     281  --.-KB/s    in 0s      \n",
            "\n",
            "2020-02-19 02:07:40 (51.9 MB/s) - ‘cmudict-0.7b.symbols’ saved [281/281]\n",
            "\n",
            "--2020-02-19 02:07:41--  http://svn.code.sf.net/p/cmusphinx/code/trunk/cmudict/cmudict-0.7b.phones\n",
            "Resolving svn.code.sf.net (svn.code.sf.net)... 216.105.38.17\n",
            "Connecting to svn.code.sf.net (svn.code.sf.net)|216.105.38.17|:80... connected.\n",
            "HTTP request sent, awaiting response... 200 OK\n",
            "Length: 382 [text/plain]\n",
            "Saving to: ‘cmudict-0.7b.phones’\n",
            "\n",
            "cmudict-0.7b.phones 100%[===================>]     382  --.-KB/s    in 0s      \n",
            "\n",
            "2020-02-19 02:07:41 (63.8 MB/s) - ‘cmudict-0.7b.phones’ saved [382/382]\n",
            "\n",
            "--2020-02-19 02:07:41--  http://svn.code.sf.net/p/cmusphinx/code/trunk/cmudict/cmudict-0.7b\n",
            "Resolving svn.code.sf.net (svn.code.sf.net)... 216.105.38.17\n",
            "Connecting to svn.code.sf.net (svn.code.sf.net)|216.105.38.17|:80... connected.\n",
            "HTTP request sent, awaiting response... 200 OK\n",
            "Length: 3716714 (3.5M) [text/plain]\n",
            "Saving to: ‘cmudict-0.7b’\n",
            "\n",
            "cmudict-0.7b        100%[===================>]   3.54M  5.07MB/s    in 0.7s    \n",
            "\n",
            "2020-02-19 02:07:42 (5.07 MB/s) - ‘cmudict-0.7b’ saved [3716714/3716714]\n",
            "\n"
          ],
          "name": "stdout"
        }
      ]
    },
    {
      "cell_type": "code",
      "metadata": {
        "id": "pLdKfaEzVikP",
        "colab_type": "code",
        "colab": {}
      },
      "source": [
        ""
      ],
      "execution_count": 0,
      "outputs": []
    }
  ]
}