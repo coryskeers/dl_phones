{
  "nbformat": 4,
  "nbformat_minor": 0,
  "metadata": {
    "colab": {
      "name": "g2p.ipynb",
      "provenance": [],
      "authorship_tag": "ABX9TyMAoxysVRQm/fSs9MJAkA1m",
      "include_colab_link": true
    },
    "kernelspec": {
      "name": "python3",
      "display_name": "Python 3"
    }
  },
  "cells": [
    {
      "cell_type": "markdown",
      "metadata": {
        "id": "view-in-github",
        "colab_type": "text"
      },
      "source": [
        "<a href=\"https://colab.research.google.com/github/coryskeers/dl_phones/blob/master/g2p.ipynb\" target=\"_parent\"><img src=\"https://colab.research.google.com/assets/colab-badge.svg\" alt=\"Open In Colab\"/></a>"
      ]
    },
    {
      "cell_type": "code",
      "metadata": {
        "id": "GVa56WFUUUsU",
        "colab_type": "code",
        "colab": {}
      },
      "source": [
        "# Download updated CMU ARPABET dictionaries and definitions if they aren't available:\n",
        "import os.path\n",
        "\n",
        "if not os.path.exists('cmudict-0.7b.symbols'):\n",
        "  !wget http://svn.code.sf.net/p/cmusphinx/code/trunk/cmudict/cmudict-0.7b.symbols\n",
        "#!wget http://svn.code.sf.net/p/cmusphinx/code/trunk/cmudict/cmudict-0.7b.phones\n",
        "if not os.path.exists('cmudict-0.7b'):\n",
        "  !wget http://svn.code.sf.net/p/cmusphinx/code/trunk/cmudict/cmudict-0.7b\n",
        "\n",
        "# Build our phoneme descriptions\n",
        "# Based on 'Poetic Sound Similarity Vectors Using Phonetic Features' which uses X-SAMPA phoneme descriptions\n",
        "# Allison Parrish; 2017\n",
        "# https://aaai.org/ocs/index.php/AIIDE/AIIDE17/paper/download/15879/15227\n",
        "phone_defs = {\n",
        "    'AA' : ['bck', 'low', 'unr', 'vwl'],\n",
        "    'AE' : ['fnt', 'low', 'unr', 'vwl'],\n",
        "    'AH' : ['cnt', 'mid', 'unr', 'vwl'],\n",
        "    'AO' : ['bck', 'lmd', 'rnd', 'vwl'],\n",
        "    'AW' : ['bck', 'cnt', 'low', 'rnd', 'smh', 'unr', 'vwl'],\n",
        "    'AY' : ['cnt', 'fnt', 'low', 'smh', 'unr', 'vwl'],\n",
        "    'B' : ['blb', 'stp', 'vcd'],\n",
        "    'CH' : ['alv', 'frc', 'stp', 'vls'],\n",
        "    'D' : ['alv', 'stp', 'vcd'],\n",
        "    'DH' : ['dnt', 'frc', 'vcd'],\n",
        "    'EH' : ['fnt', 'lmd', 'unr', 'vwl'],\n",
        "    'ER' : ['cnt', 'rzd', 'umd', 'vwl'],\n",
        "    'EY' : ['fnt', 'lmd', 'smh', 'unr', 'vwl'],\n",
        "    'F' : ['frc', 'lbd', 'vls'],\n",
        "    'G' : ['stp', 'vcd', 'vel'],\n",
        "    'HH' : ['apr', 'glt'],\n",
        "    'IH' : ['fnt', 'smh', 'unr', 'vwl'],\n",
        "    'IY' : ['fnt', 'hgh', 'unr', 'vwl'],\n",
        "    'JH' : ['alv', 'frc', 'stp', 'vcd'],\n",
        "    'K' : ['stp', 'vel', 'vls'],\n",
        "    'L' : ['alv', 'lat'],\n",
        "    'M' : ['blb', 'nas'],\n",
        "    'N' : ['alv', 'nas'],\n",
        "    'NG' : ['nas', 'vel'],\n",
        "    'OW' : ['bck', 'rnd', 'smh', 'umd', 'vwl'],\n",
        "    'OY' : ['bck', 'fnt', 'lmd', 'rnd', 'smh', 'unr', 'vwl'],\n",
        "    'P' : ['blb', 'stp', 'vls'],\n",
        "    'R' : ['alv', 'apr'],\n",
        "    'S' : ['alv', 'frc', 'vls'],\n",
        "    'SH' : ['frc', 'pla', 'vls'],\n",
        "    'T' : ['alv', 'stp', 'vls'],\n",
        "    'TH' : ['dnt', 'frc', 'vls'],\n",
        "    'UH' : ['bck', 'rnd', 'smh', 'vwl'],\n",
        "    'UW' : ['bck', 'hgh', 'rnd', 'vwl'],\n",
        "    'V' : ['frc', 'lbd', 'vcd'],\n",
        "    'W' : ['apr', 'lbv'],\n",
        "    'Y' : ['apr', 'pal'],\n",
        "    'Z' : ['alv', 'frc', 'vcd'],\n",
        "    'ZH' : ['frc', 'pla', 'vcd']\n",
        "}\n",
        "\n",
        "# Get all symbol combos and create an indexer\n",
        "with open('cmudict-0.7b.symbols') as symfile:\n",
        "  phone_index = {}\n",
        "  index_phone = {}\n",
        "  i = 0\n",
        "  for line in symfile:\n",
        "    phone_index[line.strip()] = i\n",
        "    index_phone[i] = line.strip()\n",
        "    i += 1\n",
        "\n",
        "# Get our word-phoneme dict. First 69 lines are documentation and/or symbol pronunciations.\n",
        "with open('cmudict-0.7b', encoding = 'latin-1') as pronfile:\n",
        "  word_pron = {}\n",
        "  pron_word = {}\n",
        "  for _ in range(69):\n",
        "    next(pronfile)\n",
        "  for line in pronfile:\n",
        "    entry = line.strip().split('  ', 1)\n",
        "    # Add a 'break' token at the beginning and end of the word\n",
        "    word_pron[entry[0]] = ['<b>'] + entry[1].split() + ['<b>']\n",
        "    pron_word[entry[1]] = entry[0]"
      ],
      "execution_count": 0,
      "outputs": []
    },
    {
      "cell_type": "code",
      "metadata": {
        "id": "DXWGT4CUVCfm",
        "colab_type": "code",
        "colab": {}
      },
      "source": [
        "# Vectorize our individual phonemes\n",
        "attrs = set()\n",
        "for values in phone_defs.values():\n",
        "  attrs.update(values)\n",
        "attrs = sorted(list(attrs))\n",
        "phone_vec = {}\n",
        "i = 0\n",
        "for attr in attrs:\n",
        "  phone_vec[attr] = i\n",
        "  i += 1\n",
        "for phone, attrs in phone_defs.items():\n",
        "  phone_defs[phone] = [0] * 29\n",
        "  for attr in attrs:\n",
        "    phone_defs[phone][phone_vec[attr]] = 1"
      ],
      "execution_count": 0,
      "outputs": []
    },
    {
      "cell_type": "code",
      "metadata": {
        "id": "7hVVUx2HgSTN",
        "colab_type": "code",
        "colab": {}
      },
      "source": [
        ""
      ],
      "execution_count": 0,
      "outputs": []
    },
    {
      "cell_type": "code",
      "metadata": {
        "id": "pLdKfaEzVikP",
        "colab_type": "code",
        "colab": {}
      },
      "source": [
        ""
      ],
      "execution_count": 0,
      "outputs": []
    }
  ]
}