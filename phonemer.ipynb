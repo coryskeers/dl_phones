{
  "nbformat": 4,
  "nbformat_minor": 0,
  "metadata": {
    "colab": {
      "name": "phonemer.ipynb",
      "provenance": [],
      "collapsed_sections": [],
      "authorship_tag": "ABX9TyOPvVkIU80jgOCdyWQQVzoV",
      "include_colab_link": true
    },
    "kernelspec": {
      "name": "python3",
      "display_name": "Python 3"
    },
    "accelerator": "GPU"
  },
  "cells": [
    {
      "cell_type": "markdown",
      "metadata": {
        "id": "view-in-github",
        "colab_type": "text"
      },
      "source": [
        "<a href=\"https://colab.research.google.com/github/coryskeers/dl_phones/blob/master/phonemer.ipynb\" target=\"_parent\"><img src=\"https://colab.research.google.com/assets/colab-badge.svg\" alt=\"Open In Colab\"/></a>"
      ]
    },
    {
      "cell_type": "code",
      "metadata": {
        "id": "LPif5kGGcQlE",
        "colab_type": "code",
        "colab": {
          "base_uri": "https://localhost:8080/",
          "height": 391
        },
        "outputId": "f0bb4321-f826-4111-8200-ab2ac418baef"
      },
      "source": [
        "# Download updated CMU ARPABET dictionaries and definitions if they aren't available:\n",
        "import os.path\n",
        "\n",
        "if not os.path.exists('cmudict-0.7b.symbols'):\n",
        "  !wget http://svn.code.sf.net/p/cmusphinx/code/trunk/cmudict/cmudict-0.7b.symbols\n",
        "#!wget http://svn.code.sf.net/p/cmusphinx/code/trunk/cmudict/cmudict-0.7b.phones\n",
        "if not os.path.exists('cmudict-0.7b'):\n",
        "  !wget http://svn.code.sf.net/p/cmusphinx/code/trunk/cmudict/cmudict-0.7b\n",
        "\n",
        "# Build our phoneme descriptions\n",
        "# Based on 'Poetic Sound Similarity Vectors Using Phonetic Features' which uses X-SAMPA phoneme descriptions\n",
        "# Allison Parrish; 2017\n",
        "# https://aaai.org/ocs/index.php/AIIDE/AIIDE17/paper/download/15879/15227\n",
        "phone_defs = {\n",
        "    'AA' : ['bck', 'low', 'unr', 'vwl'],\n",
        "    'AE' : ['fnt', 'low', 'unr', 'vwl'],\n",
        "    'AH' : ['cnt', 'mid', 'unr', 'vwl'],\n",
        "    'AO' : ['bck', 'lmd', 'rnd', 'vwl'],\n",
        "    'AW' : ['bck', 'cnt', 'low', 'rnd', 'smh', 'unr', 'vwl'],\n",
        "    'AY' : ['cnt', 'fnt', 'low', 'smh', 'unr', 'vwl'],\n",
        "    'B' : ['blb', 'stp', 'vcd'],\n",
        "    'CH' : ['alv', 'frc', 'stp', 'vls'],\n",
        "    'D' : ['alv', 'stp', 'vcd'],\n",
        "    'DH' : ['dnt', 'frc', 'vcd'],\n",
        "    'EH' : ['fnt', 'lmd', 'unr', 'vwl'],\n",
        "    'ER' : ['cnt', 'rzd', 'umd', 'vwl'],\n",
        "    'EY' : ['fnt', 'lmd', 'smh', 'unr', 'vwl'],\n",
        "    'F' : ['frc', 'lbd', 'vls'],\n",
        "    'G' : ['stp', 'vcd', 'vel'],\n",
        "    'HH' : ['apr', 'glt'],\n",
        "    'IH' : ['fnt', 'smh', 'unr', 'vwl'],\n",
        "    'IY' : ['fnt', 'hgh', 'unr', 'vwl'],\n",
        "    'JH' : ['alv', 'frc', 'stp', 'vcd'],\n",
        "    'K' : ['stp', 'vel', 'vls'],\n",
        "    'L' : ['alv', 'lat'],\n",
        "    'M' : ['blb', 'nas'],\n",
        "    'N' : ['alv', 'nas'],\n",
        "    'NG' : ['nas', 'vel'],\n",
        "    'OW' : ['bck', 'rnd', 'smh', 'umd', 'vwl'],\n",
        "    'OY' : ['bck', 'fnt', 'lmd', 'rnd', 'smh', 'unr', 'vwl'],\n",
        "    'P' : ['blb', 'stp', 'vls'],\n",
        "    'R' : ['alv', 'apr'],\n",
        "    'S' : ['alv', 'frc', 'vls'],\n",
        "    'SH' : ['frc', 'pla', 'vls'],\n",
        "    'T' : ['alv', 'stp', 'vls'],\n",
        "    'TH' : ['dnt', 'frc', 'vls'],\n",
        "    'UH' : ['bck', 'rnd', 'smh', 'vwl'],\n",
        "    'UW' : ['bck', 'hgh', 'rnd', 'vwl'],\n",
        "    'V' : ['frc', 'lbd', 'vcd'],\n",
        "    'W' : ['apr', 'lbv'],\n",
        "    'Y' : ['apr', 'pal'],\n",
        "    'Z' : ['alv', 'frc', 'vcd'],\n",
        "    'ZH' : ['frc', 'pla', 'vcd'],\n",
        "    '<beg>' : [],\n",
        "    '<end>' : [],\n",
        "    'NULL' : []\n",
        "}\n",
        "\n",
        "# Get all symbol combos and create an indexer\n",
        "with open('cmudict-0.7b.symbols') as symfile:\n",
        "  phone_index = {}\n",
        "  index_phone = {}\n",
        "  for i, line in enumerate(symfile):\n",
        "    phone_index[line.strip()] = i\n",
        "    index_phone[i] = line.strip()\n",
        "  phone_index['<beg>'] = len(list(phone_index.keys()))\n",
        "  phone_index['<end>'] = len(list(phone_index.keys()))\n",
        "  phone_index['NULL'] = len(list(phone_index.keys()))\n",
        "  index_phone[phone_index['<beg>']] = '<beg>'\n",
        "  index_phone[phone_index['<end>']] = '<end>'\n",
        "  index_phone[phone_index['NULL']] = 'NULL'\n",
        "\n",
        "# Get our word-phoneme dict. First 69 lines are documentation and/or symbol pronunciations.\n",
        "with open('cmudict-0.7b', encoding = 'latin-1') as pronfile:\n",
        "  word_pron = {}\n",
        "  pron_word = {}\n",
        "  for _ in range(69):\n",
        "    next(pronfile)\n",
        "  skip = False\n",
        "  for line in pronfile:\n",
        "    entry = line.strip().split('  ', 1)\n",
        "    # Currently skipping any entries with symbols, including alternate pronunciations.\n",
        "    if 2 < len(entry[0]) < 15 and entry[0][0].isalpha() and entry[0][-1] != '.':\n",
        "      for c in \"-'()+,.!?/1234567890:; _ÉÀ{}\":\n",
        "        if c in entry[0]:\n",
        "          skip = True\n",
        "      if not skip:\n",
        "        # Add a 'break' token at the beginning and end of the word\n",
        "        word_pron[entry[0]] = ['<beg>'] + entry[1].split() + ['<end>']\n",
        "        pron_word[entry[1]] = entry[0]\n",
        "    skip = False"
      ],
      "execution_count": 1,
      "outputs": [
        {
          "output_type": "stream",
          "text": [
            "--2020-04-30 18:55:57--  http://svn.code.sf.net/p/cmusphinx/code/trunk/cmudict/cmudict-0.7b.symbols\n",
            "Resolving svn.code.sf.net (svn.code.sf.net)... 216.105.38.17\n",
            "Connecting to svn.code.sf.net (svn.code.sf.net)|216.105.38.17|:80... connected.\n",
            "HTTP request sent, awaiting response... 200 OK\n",
            "Length: 281 [text/plain]\n",
            "Saving to: ‘cmudict-0.7b.symbols’\n",
            "\n",
            "\rcmudict-0.7b.symbol   0%[                    ]       0  --.-KB/s               \rcmudict-0.7b.symbol 100%[===================>]     281  --.-KB/s    in 0s      \n",
            "\n",
            "2020-04-30 18:55:57 (38.7 MB/s) - ‘cmudict-0.7b.symbols’ saved [281/281]\n",
            "\n",
            "--2020-04-30 18:55:57--  http://svn.code.sf.net/p/cmusphinx/code/trunk/cmudict/cmudict-0.7b\n",
            "Resolving svn.code.sf.net (svn.code.sf.net)... 216.105.38.17\n",
            "Connecting to svn.code.sf.net (svn.code.sf.net)|216.105.38.17|:80... connected.\n",
            "HTTP request sent, awaiting response... 200 OK\n",
            "Length: 3716714 (3.5M) [text/plain]\n",
            "Saving to: ‘cmudict-0.7b’\n",
            "\n",
            "cmudict-0.7b        100%[===================>]   3.54M  9.55MB/s    in 0.4s    \n",
            "\n",
            "2020-04-30 18:55:58 (9.55 MB/s) - ‘cmudict-0.7b’ saved [3716714/3716714]\n",
            "\n"
          ],
          "name": "stdout"
        }
      ]
    },
    {
      "cell_type": "code",
      "metadata": {
        "id": "a6Er7hMiduN8",
        "colab_type": "code",
        "colab": {}
      },
      "source": [
        "import numpy as np\n",
        "\n",
        "# Vectorize our individual phonemes.\n",
        "\n",
        "attrs = set()\n",
        "for values in phone_defs.values():\n",
        "  attrs.update(values)\n",
        "attrs = sorted(list(attrs))\n",
        "# Create our attribute indexer.\n",
        "attr_indexer = {}\n",
        "for i, attr in enumerate(attrs):\n",
        "  attr_indexer[attr] = i\n",
        "\n",
        "# 29 X-SAMPA attributes, 3 syllabic emphases, 2 pause attributes. 34 total.\n",
        "# 84 phonemes, including syllabic emphases. 2 pauses: <beg> and <end> and a NULL\n",
        "# Phoneme matrix an 87 x 34 matrix.\n",
        "phoneme_matrix = np.zeros(shape = (87, 34))\n",
        "for phone, index in phone_index.items():\n",
        "  if len(phone) == 3:\n",
        "    # Mark our syllabic emphases, leaving room at the end for our spacers.\n",
        "    phoneme_matrix[index, -(4 + int(phone[-1]))] = 1\n",
        "    phone = phone[:2]\n",
        "  for attr in phone_defs[phone]:\n",
        "    phoneme_matrix[index, attr_indexer[attr]] = 1\n",
        "#Add our spacers.\n",
        "phoneme_matrix[84, -3] = 1 # <beg> spacer\n",
        "phoneme_matrix[85, -2] = 1 # <end> spacer\n",
        "phoneme_matrix[86, -1] = 1 # NULL spacer"
      ],
      "execution_count": 0,
      "outputs": []
    },
    {
      "cell_type": "markdown",
      "metadata": {
        "id": "r53IvhMVil7v",
        "colab_type": "text"
      },
      "source": [
        "Here we have an 87 x 34 np matrix of our phoneme embeddings. Each row represents a phoneme, as well as 2 spacer tokens (`<beg>` and `<end>`) and a non-origin NULL (filler for training). First 29 columns are the X-SAMPA attributes. Next is varying syllabic emphases. Final is the 'pause' attribute (\\<beg> and \\<end>)."
      ]
    },
    {
      "cell_type": "code",
      "metadata": {
        "id": "dS7hQWIU9UAi",
        "colab_type": "code",
        "colab": {}
      },
      "source": [
        "# Normalize our phoneme attribute \"addresses\"\n",
        "for row in phoneme_matrix:\n",
        "  row /= sum([abs(x) for x in row])\n",
        "# phoneme_matrix[84] *= 3\n",
        "# phoneme_matrix[85] *= 3\n",
        "# phoneme_matrix[86] *= 3"
      ],
      "execution_count": 0,
      "outputs": []
    },
    {
      "cell_type": "code",
      "metadata": {
        "id": "Snr3vcbC9gel",
        "colab_type": "code",
        "outputId": "15bf26ca-dbfc-4f9a-c835-eddaccdf7255",
        "colab": {
          "base_uri": "https://localhost:8080/",
          "height": 51
        }
      },
      "source": [
        "phoneme_matrix[-1]"
      ],
      "execution_count": 0,
      "outputs": [
        {
          "output_type": "execute_result",
          "data": {
            "text/plain": [
              "array([0., 0., 0., 0., 0., 0., 0., 0., 0., 0., 0., 0., 0., 0., 0., 0., 0.,\n",
              "       0., 0., 0., 0., 0., 0., 0., 0., 0., 0., 0., 0., 0., 0., 0., 0., 1.])"
            ]
          },
          "metadata": {
            "tags": []
          },
          "execution_count": 34
        }
      ]
    },
    {
      "cell_type": "code",
      "metadata": {
        "id": "r27B0lkfuDXK",
        "colab_type": "code",
        "colab": {}
      },
      "source": [
        "''' Build our data sets for the grapheme2phoneme modeler. '''\n",
        "\n",
        "words = list(word_pron.keys())\n",
        "pronunciations = list(word_pron.values())\n",
        "\n",
        "vocab_length = len(words)\n",
        "max_grapheme_length = max([len(w) for w in words])\n",
        "max_pronunciation_length = max([len(p) for p in pronunciations])\n",
        "\n",
        "# 26 characters + 1 space\n",
        "num_graphemes = 27\n",
        "num_phonemes = 86\n",
        "num_phoneme_attributes = 34\n",
        "\n",
        "# An (input, wordLength, feature) shaped tensor\n",
        "encoder_input_data = np.zeros(shape = (vocab_length, max_grapheme_length, num_graphemes))\n",
        "\n",
        "# Two (input, pronunciationLength, attributeFeature) shaped tensors.\n",
        "# decoder_input_data = np.zeros(shape = (vocab_length, max_pronunciation_length, num_phoneme_attributes))\n",
        "# decoder_target_data = np.zeros(shape = (vocab_length, max_pronunciation_length, num_phoneme_attributes))\n",
        "decoder_input_data = np.zeros(shape = (vocab_length, max_pronunciation_length, num_phonemes))\n",
        "decoder_target_data = np.zeros(shape = (vocab_length, max_pronunciation_length, num_phonemes))\n",
        "\n",
        "char_index = {}\n",
        "for i, c in enumerate('ABCDEFGHIJKLMNOPQRSTUVWXYZ'):\n",
        "  char_index[c] = i\n",
        "\n",
        "\n",
        "# All extra padding should be encoded as NULL tokens.\n",
        "# For phoneme attributes, we can first set all rows to the NULL token attributes.\n",
        "# For phoneme tokens, all rows should be 0.\n",
        "# decoder_input_data[: , : ] = phoneme_matrix[-1]\n",
        "\n",
        "for i, (graphemes, pronunciation) in enumerate(word_pron.items()):\n",
        "  for j, char in enumerate(graphemes):\n",
        "    encoder_input_data[i, j, char_index[char]] = 1\n",
        "  for j, pron in enumerate(pronunciation):\n",
        "    # decoder_input_data[i, j] = phoneme_matrix[phone_index[pron]]\n",
        "    decoder_input_data[i, j, phone_index[pron]] = 1"
      ],
      "execution_count": 0,
      "outputs": []
    },
    {
      "cell_type": "code",
      "metadata": {
        "id": "jsOMUvbmIYHk",
        "colab_type": "code",
        "colab": {}
      },
      "source": [
        "from sklearn.model_selection import train_test_split\n",
        "# Shuffle and split our data.\n",
        "\n",
        "character_train_input, character_test_input, phoneme_train_input, phoneme_test_input = train_test_split(\n",
        "    encoder_input_data, decoder_input_data,\n",
        "    test_size = 0.3,\n",
        "    random_state = 42,\n",
        "    shuffle = True\n",
        ")\n",
        "phoneme_train_target = np.zeros_like(phoneme_train_input)\n",
        "phoneme_train_target[:, 0:-1, :] = phoneme_train_target[: , 1:, :]\n",
        "\n",
        "phoneme_test_target = np.zeros_like(phoneme_test_input)\n",
        "phoneme_test_target[:, 0:-1, :] = phoneme_test_input[: , 1:, :]\n",
        "\n",
        "character_train_target = np.zeros_like(character_train_input)\n",
        "character_train_target[:, 0:-1, :] = character_train_input[:, 1:, :]\n",
        "\n",
        "character_test_target = np.zeros_like(character_test_input)\n",
        "character_test_target = character_test_input[:, 1:, :]"
      ],
      "execution_count": 0,
      "outputs": []
    },
    {
      "cell_type": "code",
      "metadata": {
        "id": "3PO1sWMhQRsL",
        "colab_type": "code",
        "colab": {}
      },
      "source": [
        "# Set our constants\n",
        "batch_size = 256\n",
        "epochs = 200\n",
        "latent_dim = 256"
      ],
      "execution_count": 0,
      "outputs": []
    },
    {
      "cell_type": "code",
      "metadata": {
        "id": "ZS68vo3c8V5Z",
        "colab_type": "code",
        "colab": {}
      },
      "source": [
        "K.clear_session()"
      ],
      "execution_count": 0,
      "outputs": []
    },
    {
      "cell_type": "code",
      "metadata": {
        "id": "ZeJrk3XfvlBw",
        "colab_type": "code",
        "outputId": "93b3a8c1-6653-4b8e-be70-351aeb7fae60",
        "colab": {
          "base_uri": "https://localhost:8080/",
          "height": 408
        }
      },
      "source": [
        "''' 1-way autoencoder '''\n",
        "%tensorflow_version 1.x\n",
        "import tensorflow as tf\n",
        "from tensorflow import keras\n",
        "from keras import backend as K\n",
        "\n",
        "# encoder\n",
        "encoder_inputs = keras.layers.Input(shape = (None, num_graphemes))\n",
        "encoder_output, encoder_states = keras.layers.GRU(latent_dim, return_state = True)(encoder_inputs)\n",
        "\n",
        "#decoder \n",
        "decoder_inputs = keras.layers.Input(shape = (None, num_phonemes))\n",
        "decoder_GRU = keras.layers.GRU(latent_dim, return_sequences = True, return_state = True)\n",
        "\n",
        "decoder_outputs, decoder_states = decoder_GRU(decoder_inputs, initial_state = encoder_states)\n",
        "dense1 = keras.layers.Dense(256, activation = 'relu')\n",
        "dense2 = keras.layers.Dense(128, activation = 'relu')\n",
        "dense3 = keras.layers.Dense(num_phonemes, activation = 'softmax')\n",
        "decoder_outputs = dense1(decoder_outputs)\n",
        "decoder_outputs = dense2(decoder_outputs)\n",
        "decoder_outputs = dense3(decoder_outputs)\n",
        "\n",
        "# Training model\n",
        "training_model = keras.models.Model([encoder_inputs, decoder_inputs], decoder_outputs)\n",
        "\n",
        "# Encoder model\n",
        "encoder_model = keras.models.Model(encoder_inputs, encoder_states)\n",
        "\n",
        "# Prediction model\n",
        "decoder_state_inputs = keras.layers.Input(shape = (latent_dim,))\n",
        "decoder_outputs, decoder_states = decoder_GRU(decoder_inputs, initial_state = decoder_state_inputs)\n",
        "decoder_outputs = dense1(decoder_outputs)\n",
        "decoder_outputs = dense2(decoder_outputs)\n",
        "decoder_outputs = dense3(decoder_outputs)\n",
        "prediction_model = keras.models.Model(\n",
        "    [decoder_inputs] + [decoder_state_inputs], \n",
        "    [decoder_outputs] + [decoder_states])\n",
        "\n",
        "training_model.summary()\n",
        "# keras.utils.plot_model(training_model, show_shapes = True, show_layer_names = True)\n",
        "# keras.utils.plot_model(prediction_model, show_shapes = True, show_layer_names = True)\n",
        "# keras.utils.plot_model(encoder_model, show_shapes=True, show_layer_names=True)"
      ],
      "execution_count": 61,
      "outputs": [
        {
          "output_type": "stream",
          "text": [
            "Model: \"model\"\n",
            "__________________________________________________________________________________________________\n",
            "Layer (type)                    Output Shape         Param #     Connected to                     \n",
            "==================================================================================================\n",
            "input_1 (InputLayer)            [(None, None, 27)]   0                                            \n",
            "__________________________________________________________________________________________________\n",
            "input_2 (InputLayer)            [(None, None, 86)]   0                                            \n",
            "__________________________________________________________________________________________________\n",
            "gru (GRU)                       [(None, 256), (None, 218112      input_1[0][0]                    \n",
            "__________________________________________________________________________________________________\n",
            "gru_1 (GRU)                     [(None, None, 256),  263424      input_2[0][0]                    \n",
            "                                                                 gru[0][1]                        \n",
            "__________________________________________________________________________________________________\n",
            "dense (Dense)                   (None, None, 256)    65792       gru_1[0][0]                      \n",
            "__________________________________________________________________________________________________\n",
            "dense_1 (Dense)                 (None, None, 128)    32896       dense[0][0]                      \n",
            "__________________________________________________________________________________________________\n",
            "dense_2 (Dense)                 (None, None, 86)     11094       dense_1[0][0]                    \n",
            "==================================================================================================\n",
            "Total params: 591,318\n",
            "Trainable params: 591,318\n",
            "Non-trainable params: 0\n",
            "__________________________________________________________________________________________________\n"
          ],
          "name": "stdout"
        }
      ]
    },
    {
      "cell_type": "code",
      "metadata": {
        "colab_type": "code",
        "outputId": "93b3a8c1-6653-4b8e-be70-351aeb7fae60",
        "id": "tpIb4igJcYfo",
        "colab": {
          "base_uri": "https://localhost:8080/",
          "height": 408
        }
      },
      "source": [
        "''' 2-way autoencoder '''\n",
        "%tensorflow_version 1.x\n",
        "import tensorflow as tf\n",
        "from tensorflow import keras\n",
        "from keras import backend as K\n",
        "\n",
        "#character encoder\n",
        "c_encoder_inputs = keras.layers.Input(shape = (None, num_graphemes))\n",
        "c_encoder_output, c_encoder_state = keras.layers.GRU(latent_dim, return_state = True)(c_encoder_inputs)\n",
        "\n",
        "#phoneme encoder\n",
        "p_encoder_inputs = keras.layers.Input(shape = (None, num_phonemes))\n",
        "p_encoder_output, p_encoder_state = keras.layers.GRU(latent_dim, return_state = True)(p_encoder_inputs)\n",
        "\n",
        "#decoder to phonemes\n",
        "p_decoder_inputs = keras.layers.Input(shape = (None, num_phonemes))\n",
        "p_decoder_GRU = keras.layers.GRU(latent_dim, return_sequences = True, return_state = True)\n",
        "\n",
        "p_decoder_outputs, p_decoder_state = decoder_GRU(p_decoder_inputs, initial_state = c_encoder_state)\n",
        "p_dense1 = keras.layers.Dense(256, activation = 'relu')\n",
        "p_dense2 = keras.layers.Dense(128, activation = 'relu')\n",
        "p_dense3 = keras.layers.Dense(num_phonemes, activation = 'softmax')\n",
        "p_decoder_outputs = p_dense1(p_decoder_outputs)\n",
        "p_decoder_outputs = p_dense2(p_decoder_outputs)\n",
        "p_decoder_outputs = p_dense3(p_decoder_outputs)\n",
        "\n",
        "#decoder to characters\n",
        "c_decoder_inputs = keras.layers.Input(shape = (None, num_graphemes))\n",
        "c_decoder_GRU = keras.layers.GRU(latent_dim, return_sequences = True, return_state = True)\n",
        "\n",
        "c_decoder_outputs, c_decoder_state = decoder_GRU(c_decoder_inputs, initial_state = p_encoder_state)\n",
        "c_dense1 = keras.layers.Dense(256, activation = 'relu')\n",
        "c_dense2 = keras.layers.Dense(128, activation = 'relu')\n",
        "c_dense3 = keras.layers.Dense(num_graphemes, activation = 'softmax')\n",
        "c_decoder_outputs = c_dense1(c_decoder_outputs)\n",
        "c_decoder_outputs = c_dense2(c_decoder_outputs)\n",
        "c_decoder_outputs = c_dense3(c_decoder_outputs)\n",
        "\n",
        "# C2P Training model\n",
        "c2p_training_model = keras.models.Model([c_encoder_inputs, p_decoder_inputs], p_decoder_outputs)\n",
        "# P2C Training model\n",
        "p2c_training_model = keras.models.Model([p_encoder_inputs, c_decoder_inputs], c_decoder_outputs)\n",
        "\n",
        "# C2Latent Encoder model\n",
        "c_encoder_model = keras.models.Model(c_encoder_inputs, c_encoder_state)\n",
        "# P2Latent Encoder model\n",
        "p_encoder_model = keras.models.Model(p_encoder_inputs, p_encoder_state)\n",
        "\n",
        "# Latent2P model\n",
        "p_decoder_state_input = keras.layers.Input(shape = (latent_dim,))\n",
        "p_decoder_outputs, p_decoder_state = p_decoder_GRU(p_decoder_inputs, initial_state = p_decoder_state_input)\n",
        "p_decoder_outputs = p_dense1(p_decoder_outputs)\n",
        "p_decoder_outputs = p_dense2(p_decoder_outputs)\n",
        "p_decoder_outputs = p_dense3(p_decoder_outputs)\n",
        "l2p_model = keras.models.Model(\n",
        "    [p_decoder_inputs] + [p_decoder_state_input], \n",
        "    [p_decoder_outputs] + [p_decoder_state])\n",
        "# Latent2C model\n",
        "c_decoder_state_input = keras.layers.Input(shape = (latent_dim,))\n",
        "c_decoder_outputs, c_decoder_state = c_decoder_GRU(c_decoder_inputs, initial_state = c_decoder_state_input)\n",
        "c_decoder_outputs = c_dense1(c_decoder_outputs)\n",
        "c_decoder_outputs = c_dense2(c_decoder_outputs)\n",
        "c_decoder_outputs = c_dense3(c_decoder_outputs)\n",
        "l2c_model = keras.models.Model(\n",
        "    [c_decoder_inputs] + [c_decoder_state_input],\n",
        "    [c_decoder_outputs] + [c_decoder_state])\n",
        "\n",
        "c2p_training_model.summary()\n",
        "p2c_training_model.summary()\n",
        "# keras.utils.plot_model(training_model, show_shapes = True, show_layer_names = True)\n",
        "# keras.utils.plot_model(prediction_model, show_shapes = True, show_layer_names = True)\n",
        "# keras.utils.plot_model(encoder_model, show_shapes=True, show_layer_names=True)"
      ],
      "execution_count": 0,
      "outputs": [
        {
          "output_type": "stream",
          "text": [
            "Model: \"model\"\n",
            "__________________________________________________________________________________________________\n",
            "Layer (type)                    Output Shape         Param #     Connected to                     \n",
            "==================================================================================================\n",
            "input_1 (InputLayer)            [(None, None, 27)]   0                                            \n",
            "__________________________________________________________________________________________________\n",
            "input_2 (InputLayer)            [(None, None, 86)]   0                                            \n",
            "__________________________________________________________________________________________________\n",
            "gru (GRU)                       [(None, 256), (None, 218112      input_1[0][0]                    \n",
            "__________________________________________________________________________________________________\n",
            "gru_1 (GRU)                     [(None, None, 256),  263424      input_2[0][0]                    \n",
            "                                                                 gru[0][1]                        \n",
            "__________________________________________________________________________________________________\n",
            "dense (Dense)                   (None, None, 256)    65792       gru_1[0][0]                      \n",
            "__________________________________________________________________________________________________\n",
            "dense_1 (Dense)                 (None, None, 128)    32896       dense[0][0]                      \n",
            "__________________________________________________________________________________________________\n",
            "dense_2 (Dense)                 (None, None, 86)     11094       dense_1[0][0]                    \n",
            "==================================================================================================\n",
            "Total params: 591,318\n",
            "Trainable params: 591,318\n",
            "Non-trainable params: 0\n",
            "__________________________________________________________________________________________________\n"
          ],
          "name": "stdout"
        }
      ]
    },
    {
      "cell_type": "code",
      "metadata": {
        "id": "S5eCRtGrvtxh",
        "colab_type": "code",
        "outputId": "7c33fe63-67bb-41f1-8ae8-d4858086d45c",
        "colab": {
          "base_uri": "https://localhost:8080/",
          "height": 460
        }
      },
      "source": [
        "training_model.compile(keras.optimizers.Adam(learning_rate=0.0003), loss = 'categorical_crossentropy', metrics=['accuracy'])\n",
        "training_model.fit([encoder_input_data, decoder_input_data], \n",
        "                   decoder_target_data, \n",
        "                   batch_size=batch_size, \n",
        "                   epochs=epochs, \n",
        "                   validation_split=0.2,\n",
        "                   shuffle = True)"
      ],
      "execution_count": 62,
      "outputs": [
        {
          "output_type": "stream",
          "text": [
            "Train on 64791 samples, validate on 16198 samples\n",
            "Epoch 1/200\n",
            "64791/64791 [==============================] - 19s 298us/sample - loss: 1.4068 - acc: 0.0855 - val_loss: 1.1790 - val_acc: 0.1133\n",
            "Epoch 2/200\n",
            "64791/64791 [==============================] - 18s 279us/sample - loss: 1.1085 - acc: 0.1255 - val_loss: 1.0753 - val_acc: 0.1302\n",
            "Epoch 3/200\n",
            "26624/64791 [===========>..................] - ETA: 9s - loss: 1.0549 - acc: 0.1328 "
          ],
          "name": "stdout"
        },
        {
          "output_type": "error",
          "ename": "KeyboardInterrupt",
          "evalue": "ignored",
          "traceback": [
            "\u001b[0;31m---------------------------------------------------------------------------\u001b[0m",
            "\u001b[0;31mKeyboardInterrupt\u001b[0m                         Traceback (most recent call last)",
            "\u001b[0;32m<ipython-input-62-ea3543707b44>\u001b[0m in \u001b[0;36m<module>\u001b[0;34m()\u001b[0m\n\u001b[1;32m      5\u001b[0m                    \u001b[0mepochs\u001b[0m\u001b[0;34m=\u001b[0m\u001b[0mepochs\u001b[0m\u001b[0;34m,\u001b[0m\u001b[0;34m\u001b[0m\u001b[0;34m\u001b[0m\u001b[0m\n\u001b[1;32m      6\u001b[0m                    \u001b[0mvalidation_split\u001b[0m\u001b[0;34m=\u001b[0m\u001b[0;36m0.2\u001b[0m\u001b[0;34m,\u001b[0m\u001b[0;34m\u001b[0m\u001b[0;34m\u001b[0m\u001b[0m\n\u001b[0;32m----> 7\u001b[0;31m                    shuffle = True)\n\u001b[0m",
            "\u001b[0;32m/tensorflow-1.15.2/python3.6/tensorflow_core/python/keras/engine/training.py\u001b[0m in \u001b[0;36mfit\u001b[0;34m(self, x, y, batch_size, epochs, verbose, callbacks, validation_split, validation_data, shuffle, class_weight, sample_weight, initial_epoch, steps_per_epoch, validation_steps, validation_freq, max_queue_size, workers, use_multiprocessing, **kwargs)\u001b[0m\n\u001b[1;32m    725\u001b[0m         \u001b[0mmax_queue_size\u001b[0m\u001b[0;34m=\u001b[0m\u001b[0mmax_queue_size\u001b[0m\u001b[0;34m,\u001b[0m\u001b[0;34m\u001b[0m\u001b[0;34m\u001b[0m\u001b[0m\n\u001b[1;32m    726\u001b[0m         \u001b[0mworkers\u001b[0m\u001b[0;34m=\u001b[0m\u001b[0mworkers\u001b[0m\u001b[0;34m,\u001b[0m\u001b[0;34m\u001b[0m\u001b[0;34m\u001b[0m\u001b[0m\n\u001b[0;32m--> 727\u001b[0;31m         use_multiprocessing=use_multiprocessing)\n\u001b[0m\u001b[1;32m    728\u001b[0m \u001b[0;34m\u001b[0m\u001b[0m\n\u001b[1;32m    729\u001b[0m   def evaluate(self,\n",
            "\u001b[0;32m/tensorflow-1.15.2/python3.6/tensorflow_core/python/keras/engine/training_arrays.py\u001b[0m in \u001b[0;36mfit\u001b[0;34m(self, model, x, y, batch_size, epochs, verbose, callbacks, validation_split, validation_data, shuffle, class_weight, sample_weight, initial_epoch, steps_per_epoch, validation_steps, validation_freq, **kwargs)\u001b[0m\n\u001b[1;32m    673\u001b[0m         \u001b[0mvalidation_steps\u001b[0m\u001b[0;34m=\u001b[0m\u001b[0mvalidation_steps\u001b[0m\u001b[0;34m,\u001b[0m\u001b[0;34m\u001b[0m\u001b[0;34m\u001b[0m\u001b[0m\n\u001b[1;32m    674\u001b[0m         \u001b[0mvalidation_freq\u001b[0m\u001b[0;34m=\u001b[0m\u001b[0mvalidation_freq\u001b[0m\u001b[0;34m,\u001b[0m\u001b[0;34m\u001b[0m\u001b[0;34m\u001b[0m\u001b[0m\n\u001b[0;32m--> 675\u001b[0;31m         steps_name='steps_per_epoch')\n\u001b[0m\u001b[1;32m    676\u001b[0m \u001b[0;34m\u001b[0m\u001b[0m\n\u001b[1;32m    677\u001b[0m   def evaluate(self,\n",
            "\u001b[0;32m/tensorflow-1.15.2/python3.6/tensorflow_core/python/keras/engine/training_arrays.py\u001b[0m in \u001b[0;36mmodel_iteration\u001b[0;34m(model, inputs, targets, sample_weights, batch_size, epochs, verbose, callbacks, val_inputs, val_targets, val_sample_weights, shuffle, initial_epoch, steps_per_epoch, validation_steps, validation_freq, mode, validation_in_fit, prepared_feed_values_from_dataset, steps_name, **kwargs)\u001b[0m\n\u001b[1;32m    392\u001b[0m \u001b[0;34m\u001b[0m\u001b[0m\n\u001b[1;32m    393\u001b[0m         \u001b[0;31m# Get outputs.\u001b[0m\u001b[0;34m\u001b[0m\u001b[0;34m\u001b[0m\u001b[0;34m\u001b[0m\u001b[0m\n\u001b[0;32m--> 394\u001b[0;31m         \u001b[0mbatch_outs\u001b[0m \u001b[0;34m=\u001b[0m \u001b[0mf\u001b[0m\u001b[0;34m(\u001b[0m\u001b[0mins_batch\u001b[0m\u001b[0;34m)\u001b[0m\u001b[0;34m\u001b[0m\u001b[0;34m\u001b[0m\u001b[0m\n\u001b[0m\u001b[1;32m    395\u001b[0m         \u001b[0;32mif\u001b[0m \u001b[0;32mnot\u001b[0m \u001b[0misinstance\u001b[0m\u001b[0;34m(\u001b[0m\u001b[0mbatch_outs\u001b[0m\u001b[0;34m,\u001b[0m \u001b[0mlist\u001b[0m\u001b[0;34m)\u001b[0m\u001b[0;34m:\u001b[0m\u001b[0;34m\u001b[0m\u001b[0;34m\u001b[0m\u001b[0m\n\u001b[1;32m    396\u001b[0m           \u001b[0mbatch_outs\u001b[0m \u001b[0;34m=\u001b[0m \u001b[0;34m[\u001b[0m\u001b[0mbatch_outs\u001b[0m\u001b[0;34m]\u001b[0m\u001b[0;34m\u001b[0m\u001b[0;34m\u001b[0m\u001b[0m\n",
            "\u001b[0;32m/tensorflow-1.15.2/python3.6/tensorflow_core/python/keras/backend.py\u001b[0m in \u001b[0;36m__call__\u001b[0;34m(self, inputs)\u001b[0m\n\u001b[1;32m   3474\u001b[0m \u001b[0;34m\u001b[0m\u001b[0m\n\u001b[1;32m   3475\u001b[0m     fetched = self._callable_fn(*array_vals,\n\u001b[0;32m-> 3476\u001b[0;31m                                 run_metadata=self.run_metadata)\n\u001b[0m\u001b[1;32m   3477\u001b[0m     \u001b[0mself\u001b[0m\u001b[0;34m.\u001b[0m\u001b[0m_call_fetch_callbacks\u001b[0m\u001b[0;34m(\u001b[0m\u001b[0mfetched\u001b[0m\u001b[0;34m[\u001b[0m\u001b[0;34m-\u001b[0m\u001b[0mlen\u001b[0m\u001b[0;34m(\u001b[0m\u001b[0mself\u001b[0m\u001b[0;34m.\u001b[0m\u001b[0m_fetches\u001b[0m\u001b[0;34m)\u001b[0m\u001b[0;34m:\u001b[0m\u001b[0;34m]\u001b[0m\u001b[0;34m)\u001b[0m\u001b[0;34m\u001b[0m\u001b[0;34m\u001b[0m\u001b[0m\n\u001b[1;32m   3478\u001b[0m     output_structure = nest.pack_sequence_as(\n",
            "\u001b[0;32m/tensorflow-1.15.2/python3.6/tensorflow_core/python/client/session.py\u001b[0m in \u001b[0;36m__call__\u001b[0;34m(self, *args, **kwargs)\u001b[0m\n\u001b[1;32m   1470\u001b[0m         ret = tf_session.TF_SessionRunCallable(self._session._session,\n\u001b[1;32m   1471\u001b[0m                                                \u001b[0mself\u001b[0m\u001b[0;34m.\u001b[0m\u001b[0m_handle\u001b[0m\u001b[0;34m,\u001b[0m \u001b[0margs\u001b[0m\u001b[0;34m,\u001b[0m\u001b[0;34m\u001b[0m\u001b[0;34m\u001b[0m\u001b[0m\n\u001b[0;32m-> 1472\u001b[0;31m                                                run_metadata_ptr)\n\u001b[0m\u001b[1;32m   1473\u001b[0m         \u001b[0;32mif\u001b[0m \u001b[0mrun_metadata\u001b[0m\u001b[0;34m:\u001b[0m\u001b[0;34m\u001b[0m\u001b[0;34m\u001b[0m\u001b[0m\n\u001b[1;32m   1474\u001b[0m           \u001b[0mproto_data\u001b[0m \u001b[0;34m=\u001b[0m \u001b[0mtf_session\u001b[0m\u001b[0;34m.\u001b[0m\u001b[0mTF_GetBuffer\u001b[0m\u001b[0;34m(\u001b[0m\u001b[0mrun_metadata_ptr\u001b[0m\u001b[0;34m)\u001b[0m\u001b[0;34m\u001b[0m\u001b[0;34m\u001b[0m\u001b[0m\n",
            "\u001b[0;31mKeyboardInterrupt\u001b[0m: "
          ]
        }
      ]
    },
    {
      "cell_type": "markdown",
      "metadata": {
        "id": "x6COY7aipIgV",
        "colab_type": "text"
      },
      "source": [
        "The categorical LSTM autoencoder is effective in training grapheme2phoneme translation. The quantitative LSTM autoencoder, based on phoneme attributes, tends to converge to local minima which are not effective in g2p translation.\n",
        "\n",
        "Below, we work on updating the LSTM autoencoder to a variational autoencoder."
      ]
    },
    {
      "cell_type": "code",
      "metadata": {
        "id": "RhvgkwXMqFjQ",
        "colab_type": "code",
        "colab": {}
      },
      "source": [
        "def grapheme_to_phoneme(seq):\n",
        "  seq = seq.upper()\n",
        "  input_tensor = np.zeros(shape = (1, max_grapheme_length, num_graphemes))\n",
        "\n",
        "  for j, char in enumerate(seq):\n",
        "    input_tensor[0, j, char_index[char]] = 1\n",
        "\n",
        "  # f_state, b_state = encoder_model.predict(input_tensor)\n",
        "  # states = [f_state, b_state]\n",
        "  state_h, state_c = encoder_model.predict(input_tensor)\n",
        "  states = [state_h, state_c]\n",
        "\n",
        "  # Create our '<beg>' token\n",
        "  prev_phone = np.zeros(shape = (1, 1, num_phoneme_attributes))\n",
        "  prev_phone[0, 0, :] = phoneme_matrix[-3]\n",
        "\n",
        "  end_reached = False\n",
        "  pronunciation = '<beg>'\n",
        "  i = 0\n",
        "  while not end_reached:\n",
        "    # decoder_output, f_state, b_state = prediction_model.predict([prev_phone] + states)\n",
        "    # states = [f_state, b_state]\n",
        "    decoder_output, state_h, state_c = prediction_model.predict([prev_phone] + states)\n",
        "    states = [state_h, state_c]\n",
        "    #predict closest phoneme\n",
        "    l = []\n",
        "    for phon in phoneme_matrix:\n",
        "      # l.append(np.dot(decoder_output[0,0,:], phon))\n",
        "      l.append(np.sum((decoder_output[0, 0] - phon)**2))\n",
        "    print(decoder_output)\n",
        "    print(l)\n",
        "    # print(decoder_output)\n",
        "    predicted_phone = index_phone[np.argmin(l)]\n",
        "    print(predicted_phone)\n",
        "    # print(np.argmin(l))\n",
        "    # predicted_phone = index_phone[np.argmax(decoder_output)]\n",
        "    pronunciation += ' ' + predicted_phone\n",
        "    if predicted_phone == '<end>':\n",
        "      end_reached = True\n",
        "    i += 1\n",
        "    if i == 30:\n",
        "      end_reached = True\n",
        "    prev_phone[0, 0, :] = phoneme_matrix[phone_index[predicted_phone]]\n",
        "  return pronunciation"
      ],
      "execution_count": 0,
      "outputs": []
    },
    {
      "cell_type": "code",
      "metadata": {
        "id": "qTmoHZU-9nVK",
        "colab_type": "code",
        "colab": {}
      },
      "source": [
        "grapheme_to_phoneme(\"PERPLEXING\")\n",
        "# print(index_phone.keys())"
      ],
      "execution_count": 0,
      "outputs": []
    },
    {
      "cell_type": "code",
      "metadata": {
        "id": "3Ux3lhV8rFTh",
        "colab_type": "code",
        "colab": {}
      },
      "source": [
        "intermediate_dim = 512\n",
        "latent_dim = 2\n",
        "batch_size = 128\n",
        "epsilon_std = 1.\n",
        "epochs = 10"
      ],
      "execution_count": 0,
      "outputs": []
    },
    {
      "cell_type": "code",
      "metadata": {
        "id": "qhxiv6ov22zD",
        "colab_type": "code",
        "colab": {}
      },
      "source": [
        "K.clear_session()"
      ],
      "execution_count": 0,
      "outputs": []
    },
    {
      "cell_type": "code",
      "metadata": {
        "colab_type": "code",
        "id": "2MlrJSnEjVoM",
        "colab": {}
      },
      "source": [
        "def g2p_categorical(seq):\n",
        "  seq = seq.upper()\n",
        "  input_tensor = np.zeros(shape = (1, max_grapheme_length, num_graphemes))\n",
        "\n",
        "  for j, char in enumerate(seq):\n",
        "    input_tensor[0, j, char_index[char]] = 1\n",
        "\n",
        "  states = encoder_model.predict(input_tensor)\n",
        "  # states = [state_h, state_c]\n",
        "\n",
        "  # Create our '<beg>' token\n",
        "  prev_phone = np.zeros(shape = (1, 1, num_phonemes))\n",
        "  prev_phone[0, 0, -2] = 1\n",
        "\n",
        "  end_reached = False\n",
        "  pronunciation = '<beg>'\n",
        "  i = 0\n",
        "  while not end_reached:\n",
        "    decoder_output, states = prediction_model.predict([prev_phone] + [states])\n",
        "    # states = [f_state, b_state]\n",
        "    # print(decoder_output)\n",
        "    # print(np.max(decoder_output))\n",
        "    predicted_phone = index_phone[np.argmax(decoder_output)]\n",
        "    # print(predicted_phone)\n",
        "    pronunciation += ' ' + predicted_phone\n",
        "    if predicted_phone == '<end>':\n",
        "      end_reached = True\n",
        "    i += 1\n",
        "    if i == 30:\n",
        "      end_reached = True\n",
        "    prev_phone = np.zeros(shape = (1, 1, num_phonemes))\n",
        "    prev_phone[0, 0, phone_index[predicted_phone]] = 1\n",
        "  return pronunciation"
      ],
      "execution_count": 0,
      "outputs": []
    },
    {
      "cell_type": "code",
      "metadata": {
        "id": "j3qQ9waHNX9z",
        "colab_type": "code",
        "outputId": "7cfce09c-62a7-4825-c3e2-0eb1dc148320",
        "colab": {
          "base_uri": "https://localhost:8080/",
          "height": 34
        }
      },
      "source": [
        "g2p_categorical(\"OVERZEALOUS\")"
      ],
      "execution_count": 104,
      "outputs": [
        {
          "output_type": "execute_result",
          "data": {
            "text/plain": [
              "'<beg> OW2 V ER0 Z OW0 L IY1 K <end>'"
            ]
          },
          "metadata": {
            "tags": []
          },
          "execution_count": 104
        }
      ]
    },
    {
      "cell_type": "code",
      "metadata": {
        "id": "VBU5TzC1b0V2",
        "colab_type": "code",
        "colab": {}
      },
      "source": [
        "import re\n",
        "def sent2phones(seq):\n",
        "  upper_nosym = re.sub(r'''[^A-Z]''', ' ', seq.upper())\n",
        "  words = upper_nosym.split()\n",
        "  phones = []\n",
        "  for word in words:\n",
        "    phones.append(g2p_categorical(word))\n",
        "  return phones"
      ],
      "execution_count": 0,
      "outputs": []
    },
    {
      "cell_type": "code",
      "metadata": {
        "id": "p5fjtrprcu98",
        "colab_type": "code",
        "colab": {
          "base_uri": "https://localhost:8080/",
          "height": 34
        },
        "outputId": "381a6dee-ca7f-4bad-aaf7-81d2a1dcd3d4"
      },
      "source": [
        "s = \"Test sentence.\"\n",
        "# upper_nosym = re.sub(r'''[^A-Z]''', ' ', s.upper())\n",
        "# s = upper_nosym.split()\n",
        "sent2phones(s)"
      ],
      "execution_count": 127,
      "outputs": [
        {
          "output_type": "execute_result",
          "data": {
            "text/plain": [
              "['<beg> T EH1 S T <end>', '<beg> S EH1 N T AH0 N S <end>']"
            ]
          },
          "metadata": {
            "tags": []
          },
          "execution_count": 127
        }
      ]
    },
    {
      "cell_type": "code",
      "metadata": {
        "id": "4cStnjwAeUqr",
        "colab_type": "code",
        "colab": {}
      },
      "source": [
        "def encode_word(seq):\n",
        "  input_tensor = np.zeros(shape = (1, max_grapheme_length, num_graphemes))\n",
        "  for j, char in enumerate(seq):\n",
        "    input_tensor[0, j, char_index[char]] = 1\n",
        "\n",
        "  states = encoder_model.predict(input_tensor)\n",
        "  return states\n",
        "\n",
        "def encode_sentence(sentence):\n",
        "  upper_nosym = re.sub(r'''[^A-Z]''', ' ', sentence.upper())\n",
        "  words = upper_nosym.split()\n",
        "  encodings = np.zeros(shape = (len(words), latent_dim))\n",
        "  for i, word in enumerate(words):\n",
        "    encodings[i, :] = encode_word(word)\n",
        "  return encodings"
      ],
      "execution_count": 0,
      "outputs": []
    },
    {
      "cell_type": "code",
      "metadata": {
        "id": "hCBVSbblmF_a",
        "colab_type": "code",
        "colab": {
          "base_uri": "https://localhost:8080/",
          "height": 34
        },
        "outputId": "2b81881c-e355-4eba-f616-dd22f792a4fe"
      },
      "source": [
        "sentence = 'Test sentence.'\n",
        "upper_nosym = re.sub(r'''[^A-Z]''', ' ', sentence.upper())\n",
        "words = upper_nosym.split()\n",
        "words"
      ],
      "execution_count": 134,
      "outputs": [
        {
          "output_type": "execute_result",
          "data": {
            "text/plain": [
              "['TEST', 'SENTENCE']"
            ]
          },
          "metadata": {
            "tags": []
          },
          "execution_count": 134
        }
      ]
    },
    {
      "cell_type": "code",
      "metadata": {
        "id": "E_xniVN_lG8T",
        "colab_type": "code",
        "colab": {
          "base_uri": "https://localhost:8080/",
          "height": 34
        },
        "outputId": "e89bf81f-7587-42ff-d58d-a2a9d55e9835"
      },
      "source": [
        "l = encode_sentence('Test sentence.')\n",
        "l.shape"
      ],
      "execution_count": 155,
      "outputs": [
        {
          "output_type": "execute_result",
          "data": {
            "text/plain": [
              "(2, 256)"
            ]
          },
          "metadata": {
            "tags": []
          },
          "execution_count": 155
        }
      ]
    },
    {
      "cell_type": "code",
      "metadata": {
        "id": "CTzRD7LhbcWy",
        "colab_type": "code",
        "colab": {}
      },
      "source": [
        "epochs = 10\n",
        "batch_size = 256\n",
        "intermediate_dim = 256\n",
        "latent_dim = 128\n",
        "epsilon_std = 1"
      ],
      "execution_count": 0,
      "outputs": []
    },
    {
      "cell_type": "code",
      "metadata": {
        "id": "w9T_AYnBZJ-w",
        "colab_type": "code",
        "colab": {
          "base_uri": "https://localhost:8080/",
          "height": 1000
        },
        "outputId": "5c33a21f-7396-427f-c709-009b269fece9"
      },
      "source": [
        "%tensorflow_version 1.x\n",
        "import tensorflow as tf\n",
        "from tensorflow import keras\n",
        "from keras import backend as K\n",
        "\n",
        "#encoder\n",
        "encoder_inputs = keras.layers.Input(shape = (None, num_graphemes))\n",
        "encoder_output, encoder_state = keras.layers.GRU(intermediate_dim, return_state = True)(encoder_inputs)\n",
        "\n",
        "z_mean = keras.layers.Dense(latent_dim, activation = 'relu')(encoder_state)\n",
        "z_log_sigma = keras.layers.Dense(latent_dim, activation = 'relu')(encoder_state)\n",
        "\n",
        "def sampling(args):\n",
        "  z_mean, z_log_sigma = args\n",
        "  epsilon = K.random_normal(shape = K.shape(z_mean),\n",
        "                            mean = 0., stddev = epsilon_std)\n",
        "  return z_mean + K.exp(z_log_sigma) * epsilon\n",
        "\n",
        "z = keras.layers.Lambda(sampling, output_shape = (latent_dim,))([z_mean, z_log_sigma])\n",
        "\n",
        "#decoder\n",
        "decoder_inputs = keras.layers.Input(shape = (None, num_phonemes))\n",
        "decoder_dense = keras.layers.Dense(intermediate_dim, activation = 'relu')\n",
        "encoder_state = decoder_dense(z)\n",
        "decoder_GRU = keras.layers.GRU(intermediate_dim, return_sequences = True, return_state = True)\n",
        "\n",
        "decoder_outputs, decoder_state = decoder_GRU(decoder_inputs, initial_state = encoder_state)\n",
        "\n",
        "dense1 = keras.layers.Dense(256, activation = 'relu')\n",
        "dense2 = keras.layers.Dense(128, activation = 'relu')\n",
        "dense3 = keras.layers.Dense(num_phonemes, activation = 'softmax')\n",
        "\n",
        "decoder_outputs = dense1(decoder_outputs)\n",
        "decoder_outputs = keras.layers.Dropout(0.2)(decoder_outputs)\n",
        "decoder_outputs = dense2(decoder_outputs)\n",
        "decoder_outputs = keras.layers.Dropout(0.2)(decoder_outputs)\n",
        "decoder_outputs = dense3(decoder_outputs)\n",
        "\n",
        "# Training model\n",
        "training_model = keras.models.Model([encoder_inputs, decoder_inputs], decoder_outputs)\n",
        "\n",
        "# Encoder model\n",
        "encoder_model = keras.models.Model(encoder_inputs, encoder_state)\n",
        "\n",
        "# Prediction model\n",
        "decoder_state_input = keras.layers.Input(shape = (intermediate_dim,))\n",
        "decoder_outputs, decoder_state = decoder_GRU(decoder_inputs, initial_state = decoder_state_input)\n",
        "decoder_outputs = dense1(decoder_outputs)\n",
        "decoder_outputs = dense2(decoder_outputs)\n",
        "decoder_outputs = dense3(decoder_outputs)\n",
        "prediction_model = keras.models.Model(\n",
        "    [decoder_inputs, decoder_state_input], \n",
        "    [decoder_outputs, decoder_state])\n",
        "\n",
        "training_model.summary()\n",
        "keras.utils.plot_model(training_model, show_shapes = True, show_layer_names = True)\n",
        "# keras.utils.plot_model(prediction_model, show_shapes = True, show_layer_names = True)\n",
        "# keras.utils.plot_model(encoder_model, show_shapes=True, show_layer_names=True)"
      ],
      "execution_count": 77,
      "outputs": [
        {
          "output_type": "stream",
          "text": [
            "Model: \"model\"\n",
            "__________________________________________________________________________________________________\n",
            "Layer (type)                    Output Shape         Param #     Connected to                     \n",
            "==================================================================================================\n",
            "input_1 (InputLayer)            [(None, None, 27)]   0                                            \n",
            "__________________________________________________________________________________________________\n",
            "gru (GRU)                       [(None, 256), (None, 218112      input_1[0][0]                    \n",
            "__________________________________________________________________________________________________\n",
            "dense (Dense)                   (None, 128)          32896       gru[0][1]                        \n",
            "__________________________________________________________________________________________________\n",
            "dense_1 (Dense)                 (None, 128)          32896       gru[0][1]                        \n",
            "__________________________________________________________________________________________________\n",
            "lambda (Lambda)                 (None, 128)          0           dense[0][0]                      \n",
            "                                                                 dense_1[0][0]                    \n",
            "__________________________________________________________________________________________________\n",
            "input_2 (InputLayer)            [(None, None, 86)]   0                                            \n",
            "__________________________________________________________________________________________________\n",
            "dense_2 (Dense)                 (None, 256)          33024       lambda[0][0]                     \n",
            "__________________________________________________________________________________________________\n",
            "gru_1 (GRU)                     [(None, None, 256),  263424      input_2[0][0]                    \n",
            "                                                                 dense_2[0][0]                    \n",
            "__________________________________________________________________________________________________\n",
            "dense_3 (Dense)                 (None, None, 256)    65792       gru_1[0][0]                      \n",
            "__________________________________________________________________________________________________\n",
            "dropout (Dropout)               (None, None, 256)    0           dense_3[0][0]                    \n",
            "__________________________________________________________________________________________________\n",
            "dense_4 (Dense)                 (None, None, 128)    32896       dropout[0][0]                    \n",
            "__________________________________________________________________________________________________\n",
            "dropout_1 (Dropout)             (None, None, 128)    0           dense_4[0][0]                    \n",
            "__________________________________________________________________________________________________\n",
            "dense_5 (Dense)                 (None, None, 86)     11094       dropout_1[0][0]                  \n",
            "==================================================================================================\n",
            "Total params: 690,134\n",
            "Trainable params: 690,134\n",
            "Non-trainable params: 0\n",
            "__________________________________________________________________________________________________\n"
          ],
          "name": "stdout"
        },
        {
          "output_type": "execute_result",
          "data": {
            "image/png": "[encoded data removed]",
            "text/plain": [
              "<IPython.core.display.Image object>"
            ]
          },
          "metadata": {
            "tags": []
          },
          "execution_count": 77
        }
      ]
    },
    {
      "cell_type": "code",
      "metadata": {
        "id": "ZigsIo3ic3yH",
        "colab_type": "code",
        "colab": {}
      },
      "source": [
        "K.clear_session()"
      ],
      "execution_count": 0,
      "outputs": []
    },
    {
      "cell_type": "code",
      "metadata": {
        "id": "EdzbJ8kQiMFK",
        "colab_type": "code",
        "colab": {}
      },
      "source": [
        "def vae_loss(x, x_decoded_mean):\n",
        "  xent_loss = keras.losses.categorical_crossentropy(x, x_decoded_mean)\n",
        "  kl_loss = - 0.00001 * K.mean(1 + z_log_sigma - K.square(z_mean) - K.exp(z_log_sigma))\n",
        "  loss = xent_loss + kl_loss\n",
        "  return loss"
      ],
      "execution_count": 0,
      "outputs": []
    },
    {
      "cell_type": "markdown",
      "metadata": {
        "id": "qRq0yyRJjnfu",
        "colab_type": "text"
      },
      "source": [
        "For training, currently starting at lr = 0.001, and dropping per 20 epochs."
      ]
    },
    {
      "cell_type": "code",
      "metadata": {
        "id": "t9JsJ_h4cR2g",
        "colab_type": "code",
        "colab": {
          "base_uri": "https://localhost:8080/",
          "height": 374
        },
        "outputId": "e7e8a744-8f9f-4e22-9424-6a71cf769563"
      },
      "source": [
        "training_model.compile(keras.optimizers.Adam(learning_rate=0.001), loss = vae_loss, metrics = ['accuracy'])\n",
        "history = training_model.fit([encoder_input_data, decoder_input_data], \n",
        "                   decoder_target_data, \n",
        "                   batch_size=batch_size, \n",
        "                   epochs=epochs, \n",
        "                   validation_split=0.2,\n",
        "                   shuffle = True)"
      ],
      "execution_count": 79,
      "outputs": [
        {
          "output_type": "stream",
          "text": [
            "Train on 64791 samples, validate on 16198 samples\n",
            "Epoch 1/10\n",
            "64791/64791 [==============================] - 20s 311us/sample - loss: 1.3027 - acc: 0.0937 - val_loss: 1.1144 - val_acc: 0.1195\n",
            "Epoch 2/10\n",
            "64791/64791 [==============================] - 19s 297us/sample - loss: 1.0879 - acc: 0.1239 - val_loss: 1.0276 - val_acc: 0.1372\n",
            "Epoch 3/10\n",
            "64791/64791 [==============================] - 19s 290us/sample - loss: 1.0047 - acc: 0.1420 - val_loss: 0.9442 - val_acc: 0.1555\n",
            "Epoch 4/10\n",
            "64791/64791 [==============================] - 19s 296us/sample - loss: 0.9516 - acc: 0.1555 - val_loss: 0.9050 - val_acc: 0.1666\n",
            "Epoch 5/10\n",
            "64791/64791 [==============================] - 19s 291us/sample - loss: 0.9162 - acc: 0.1644 - val_loss: 0.8705 - val_acc: 0.1755\n",
            "Epoch 6/10\n",
            "64791/64791 [==============================] - 19s 290us/sample - loss: 0.8905 - acc: 0.1704 - val_loss: 0.8561 - val_acc: 0.1779\n",
            "Epoch 7/10\n",
            "64791/64791 [==============================] - 19s 293us/sample - loss: 0.8689 - acc: 0.1757 - val_loss: 0.8413 - val_acc: 0.1813\n",
            "Epoch 8/10\n",
            "64791/64791 [==============================] - 19s 295us/sample - loss: 0.8547 - acc: 0.1790 - val_loss: 0.8172 - val_acc: 0.1883\n",
            "Epoch 9/10\n",
            "64791/64791 [==============================] - 19s 297us/sample - loss: 0.8410 - acc: 0.1822 - val_loss: 0.8162 - val_acc: 0.1872\n",
            "Epoch 10/10\n",
            "64791/64791 [==============================] - 19s 291us/sample - loss: 0.8294 - acc: 0.1851 - val_loss: 0.8210 - val_acc: 0.1860\n"
          ],
          "name": "stdout"
        }
      ]
    },
    {
      "cell_type": "code",
      "metadata": {
        "id": "YLGE5W5GkOIB",
        "colab_type": "code",
        "colab": {
          "base_uri": "https://localhost:8080/",
          "height": 265
        },
        "outputId": "c5194e9c-e891-4707-84f6-04653bef023f"
      },
      "source": [
        "from matplotlib import pyplot as plt\n",
        "loss = history.history['loss']\n",
        "val_loss = history.history['val_loss']\n",
        "epochs = range(1, len(loss) + 1)\n",
        "plt.plot(epochs, loss, 'y', label = 'Training Loss')\n",
        "plt.plot(epochs, val_loss, 'r', label = 'Validation Loss')\n",
        "plt.legend()\n",
        "plt.show()"
      ],
      "execution_count": 80,
      "outputs": [
        {
          "output_type": "display_data",
          "data": {
            "image/png": "[encoded data removed]",
            "text/plain": [
              "<Figure size 432x288 with 1 Axes>"
            ]
          },
          "metadata": {
            "tags": [],
            "needs_background": "light"
          }
        }
      ]
    },
    {
      "cell_type": "code",
      "metadata": {
        "id": "daYSzeBhlRJ1",
        "colab_type": "code",
        "colab": {
          "base_uri": "https://localhost:8080/",
          "height": 265
        },
        "outputId": "eaee19d5-c636-4952-b27d-6a0497b0240e"
      },
      "source": [
        "acc = history.history['acc']\n",
        "val_acc = history.history['val_acc']\n",
        "plt.plot(epochs, acc, 'y', label = 'Training Accuracy')\n",
        "plt.plot(epochs, val_acc, 'r', label = 'Validation Accuracy')\n",
        "plt.legend()\n",
        "plt.show()"
      ],
      "execution_count": 81,
      "outputs": [
        {
          "output_type": "display_data",
          "data": {
            "image/png": "[encoded data removed]",
            "text/plain": [
              "<Figure size 432x288 with 1 Axes>"
            ]
          },
          "metadata": {
            "tags": [],
            "needs_background": "light"
          }
        }
      ]
    },
    {
      "cell_type": "code",
      "metadata": {
        "id": "pUcuiWzJilZN",
        "colab_type": "code",
        "colab": {}
      },
      "source": [
        "def g2p_categorical(seq):\n",
        "  seq = seq.upper()\n",
        "  input_tensor = np.zeros(shape = (1, max_grapheme_length, num_graphemes))\n",
        "\n",
        "  for j, char in enumerate(seq):\n",
        "    input_tensor[0, j, char_index[char]] = 1\n",
        "\n",
        "  decoder_state = encoder_model.predict(input_tensor)\n",
        "\n",
        "  # Create our '<beg>' token\n",
        "  prev_phone = np.zeros(shape = (1, 1, num_phonemes))\n",
        "  prev_phone[0, 0, -2] = 1\n",
        "\n",
        "  end_reached = False\n",
        "  pronunciation = '<beg>'\n",
        "  i = 0\n",
        "  while not end_reached:\n",
        "    decoder_output, decoder_state = prediction_model.predict([prev_phone, decoder_state])\n",
        "    predicted_phone = index_phone[np.argmax(decoder_output)]\n",
        "    pronunciation += ' ' + predicted_phone\n",
        "    if predicted_phone == '<end>':\n",
        "      end_reached = True\n",
        "    i += 1\n",
        "    if i == 30:\n",
        "      end_reached = True\n",
        "    prev_phone = np.zeros(shape = (1, 1, num_phonemes))\n",
        "    prev_phone[0, 0, phone_index[predicted_phone]] = 1\n",
        "  return pronunciation"
      ],
      "execution_count": 0,
      "outputs": []
    },
    {
      "cell_type": "code",
      "metadata": {
        "id": "wDkVzMXOjuYK",
        "colab_type": "code",
        "colab": {
          "base_uri": "https://localhost:8080/",
          "height": 34
        },
        "outputId": "86844a0b-0afb-4929-f18e-6de09111426c"
      },
      "source": [
        "g2p_categorical(\"DRAPES\")"
      ],
      "execution_count": 85,
      "outputs": [
        {
          "output_type": "execute_result",
          "data": {
            "text/plain": [
              "'<beg> D IH0 S K R IY1 T <end>'"
            ]
          },
          "metadata": {
            "tags": []
          },
          "execution_count": 85
        }
      ]
    },
    {
      "cell_type": "code",
      "metadata": {
        "id": "4Ea53ok2qr-L",
        "colab_type": "code",
        "colab": {
          "base_uri": "https://localhost:8080/",
          "height": 122
        },
        "outputId": "46729e77-55b6-4131-c560-d018617015b4"
      },
      "source": [
        "''' Connect to gdrive '''\n",
        "from google.colab import drive\n",
        "drive.mount('/content/gdrive')"
      ],
      "execution_count": 158,
      "outputs": [
        {
          "output_type": "stream",
          "text": [
            "Go to this URL in a browser: https://accounts.google.com/o/oauth2/auth?client_id=947318989803-6bn6qk8qdgf4n4g3pfee6491hc0brc4i.apps.googleusercontent.com&redirect_uri=urn%3aietf%3awg%3aoauth%3a2.0%3aoob&response_type=code&scope=email%20https%3a%2f%2fwww.googleapis.com%2fauth%2fdocs.test%20https%3a%2f%2fwww.googleapis.com%2fauth%2fdrive%20https%3a%2f%2fwww.googleapis.com%2fauth%2fdrive.photos.readonly%20https%3a%2f%2fwww.googleapis.com%2fauth%2fpeopleapi.readonly\n",
            "\n",
            "Enter your authorization code:\n",
            "··········\n",
            "Mounted at /content/gdrive\n"
          ],
          "name": "stdout"
        }
      ]
    },
    {
      "cell_type": "code",
      "metadata": {
        "id": "JuVXk1F2tlNg",
        "colab_type": "code",
        "colab": {}
      },
      "source": [
        "import csv\n",
        "songdata_path = 'gdrive/My Drive/songdata.csv'\n",
        "with open (songdata_path) as csvfile:\n",
        "  lyrics = []\n",
        "  reader = csv.reader(csvfile)\n",
        "  for row in reader:\n",
        "    lyrics.append(row[3])\n",
        "lyrics = lyrics[1:]"
      ],
      "execution_count": 0,
      "outputs": []
    },
    {
      "cell_type": "code",
      "metadata": {
        "id": "L9GYNAEpui3R",
        "colab_type": "code",
        "colab": {
          "base_uri": "https://localhost:8080/",
          "height": 122
        },
        "outputId": "d8976272-b6e0-4bfc-ffd9-de8fe48f8588"
      },
      "source": [
        "lyrics[:5]"
      ],
      "execution_count": 249,
      "outputs": [
        {
          "output_type": "execute_result",
          "data": {
            "text/plain": [
              "[\"Look at her face, it's a wonderful face  \\nAnd it means something special to me  \\nLook at the way that she smiles when she sees me  \\nHow lucky can one fellow be?  \\n  \\nShe's just my kind of girl, she makes me feel fine  \\nWho could ever believe that she could be mine?  \\nShe's just my kind of girl, without her I'm blue  \\nAnd if she ever leaves me what could I do, what could I do?  \\n  \\nAnd when we go for a walk in the park  \\nAnd she holds me and squeezes my hand  \\nWe'll go on walking for hours and talking  \\nAbout all the things that we plan  \\n  \\nShe's just my kind of girl, she makes me feel fine  \\nWho could ever believe that she could be mine?  \\nShe's just my kind of girl, without her I'm blue  \\nAnd if she ever leaves me what could I do, what could I do?\\n\\n\",\n",
              " \"Take it easy with me, please  \\nTouch me gently like a summer evening breeze  \\nTake your time, make it slow  \\nAndante, Andante  \\nJust let the feeling grow  \\n  \\nMake your fingers soft and light  \\nLet your body be the velvet of the night  \\nTouch my soul, you know how  \\nAndante, Andante  \\nGo slowly with me now  \\n  \\nI'm your music  \\n(I am your music and I am your song)  \\nI'm your song  \\n(I am your music and I am your song)  \\nPlay me time and time again and make me strong  \\n(Play me again 'cause you're making me strong)  \\nMake me sing, make me sound  \\n(You make me sing and you make me)  \\nAndante, Andante  \\nTread lightly on my ground  \\nAndante, Andante  \\nOh please don't let me down  \\n  \\nThere's a shimmer in your eyes  \\nLike the feeling of a thousand butterflies  \\nPlease don't talk, go on, play  \\nAndante, Andante  \\nAnd let me float away  \\n  \\nI'm your music  \\n(I am your music and I am your song)  \\nI'm your song  \\n(I am your music and I am your song)  \\nPlay me time and time again and make me strong  \\n(Play me again 'cause you're making me strong)  \\nMake me sing, make me sound  \\n(You make me sing and you make me)  \\nAndante, Andante  \\nTread lightly on my ground  \\nAndante, Andante  \\nOh please don't let me down  \\n  \\nMake me sing, make me sound  \\n(You make me sing and you make me)  \\nAndante, Andante  \\nTread lightly on my ground  \\nAndante, Andante  \\nOh please don't let me down  \\nAndante, Andante  \\nOh please don't let me down\\n\\n\",\n",
              " \"I'll never know why I had to go  \\nWhy I had to put up such a lousy rotten show  \\nBoy, I was tough, packing all my stuff  \\nSaying I don't need you anymore, I've had enough  \\nAnd now, look at me standing here again 'cause I found out that  \\nMa ma ma ma ma ma ma ma ma ma ma ma ma ma ma ma my life is here  \\nGotta have you near  \\n  \\nAs good as new, my love for you  \\nAnd keeping it that way is my intention  \\nAs good as new and growing too  \\nYes, I think it's taking on a new dimension  \\nIt's as good as new, my love for you  \\nJust like it used to be and even better  \\nAs good as new, thank God it's true  \\nDarling, we were always meant to stay together  \\n  \\nFeel like a creep, never felt so cheap  \\nNever had a notion that my love could be so deep  \\nHow could I make such a dumb mistake  \\nNow I know I'm not entitled to another break  \\nBut please, baby, I beg you to forgive 'cause I found out that  \\nMa ma ma ma ma ma ma ma ma ma ma ma ma ma ma ma my life is here  \\nGotta get you near  \\n  \\nI thought that our love was at an end but here I am again  \\n  \\nAs good as new, my love for you  \\nAnd keeping it that way is my intention  \\nAs good as new and growing too  \\nYes, I think it's taking on a new dimension  \\nIt's as good as new, my love for you  \\nJust like it used to be and even better  \\nAs good as new, thank God it's true  \\nDarling, we were always meant to stay together  \\n  \\nYes the love I have for you feels as good as new  \\nDarling, we were always meant to stay together\\n\\n\",\n",
              " \"Making somebody happy is a question of give and take  \\nYou can learn how to show it so come on, give yourself a break  \\nEvery smile and every little touch  \\nDon't you know that they mean so much  \\nSweet sweet kisses so tender  \\nAlways will return to sender  \\n  \\nLike a bang, a boom-a-boomerang  \\nDum-be-dum-dum be-dum-be-dum-dum  \\nOh bang, a boom-a-boomerang  \\nLove is a tune you hum-de-hum-hum  \\nSo give it away, I think you'll learn  \\nYou'll get love in return  \\nSo bang, a boom-a-boomerang is love  \\nA boom-a-boomerang is love  \\n  \\nLove is always around and you can look for it anywhere  \\nWhen you feel that you've found it my advice is to take good care  \\nNever use it as a selfish tool  \\nNever ever be such a fool  \\nEvery feeling you're showing  \\nIs a boomerang you're throwing  \\n  \\nYes a bang, a boom-a-boomerang  \\nDum-be-dum-dum be-dum-be-dum-dum  \\nOh bang, a boom-a-boomerang  \\nLove is a tune you hum-de-hum-hum  \\nSo give it away, I think you'll learn  \\nYou'll get love in return  \\nSo bang, a boom-a-boomerang is love  \\n  \\nAnd if you're warm and tender  \\nI'll kiss you, return to sender  \\nPlease surrender  \\n  \\nBang, a boom-a-boomerang  \\nDum-be-dum-dum be-dum-be-dum-dum  \\nOh bang, a boom-a-boomerang is love  \\nA boom-a-boomerang is love\\n\\n\",\n",
              " \"Making somebody happy is a question of give and take  \\nYou can learn how to show it so come on, give yourself a break  \\nEvery smile and every little touch  \\nDon't you know that they mean so much  \\nSweet sweet kisses so tender  \\nAlways will return to sender  \\n  \\nLike a bang, a boom-a-boomerang  \\nDumb-be-dumb-dumb be-dumb-be-dumb-dumb  \\nOh bang, a boom-a-boomerang  \\nLove is a tune you hum-de-hum-hum  \\nBy giving away, I think you'll learn  \\nYou'll get love in return  \\nSo bang, a boom-a-boomerang is love  \\nA boom-a-boomerang is love  \\n  \\nLove is always around and you can look for it anywhere  \\nWhen you feel that you've found it my advice is to take good care  \\nNever use it as a selfish tool  \\nNever ever be such a fool  \\nEvery feeling you're showing  \\nIs a boomerang you're throwing  \\n  \\nYes a bang, a boom-a-boomerang  \\nDumb-be-dumb-dumb be-dumb-be-dumb-dumb  \\nOh bang, a boom-a-boomerang  \\nLove is a tune you hum-de-hum-hum  \\nBy giving away, I think you'll learn  \\nYou'll get love in return  \\nSo bang, a boom-a-boomerang is love  \\n  \\nAnd if you're warm and tender  \\nI'll kiss you, return to sender  \\nPlease surrender  \\n  \\nBang, a boom-a-boomerang  \\nDumb-be-dumb-dumb be-dumb-be-dumb-dumb  \\nOh bang, a boom-a-boomerang is love  \\nA boom-a-boomerang is love\\n\\n\"]"
            ]
          },
          "metadata": {
            "tags": []
          },
          "execution_count": 249
        }
      ]
    },
    {
      "cell_type": "code",
      "metadata": {
        "id": "QAspOdIVup-i",
        "colab_type": "code",
        "colab": {}
      },
      "source": [
        "all_song_lines = []\n",
        "for song in lyrics[:10]:\n",
        "  lines = song.splitlines()\n",
        "  for line in lines:\n",
        "    # Using 'doggo' as our <beg> token, and 'catto' as our end token.\n",
        "    line = 'DOGGO ' + line + ' CATTO'\n",
        "    line_encoding = encode_sentence(line)\n",
        "    all_song_lines.append(line_encoding)"
      ],
      "execution_count": 0,
      "outputs": []
    },
    {
      "cell_type": "code",
      "metadata": {
        "id": "60B3GoA8xcUs",
        "colab_type": "code",
        "colab": {
          "base_uri": "https://localhost:8080/",
          "height": 34
        },
        "outputId": "2607ef94-304b-4210-b138-825a1fc34853"
      },
      "source": [
        "max([len(x) for x in all_song_lines])"
      ],
      "execution_count": 262,
      "outputs": [
        {
          "output_type": "execute_result",
          "data": {
            "text/plain": [
              "22"
            ]
          },
          "metadata": {
            "tags": []
          },
          "execution_count": 262
        }
      ]
    },
    {
      "cell_type": "code",
      "metadata": {
        "id": "Ha0chb1igMgz",
        "colab_type": "code",
        "colab": {}
      },
      "source": [
        "# For each line, we have a series of encodings.\n",
        "max_line_length = max([len(x) for x in all_song_lines])\n",
        "num_song_lines = len(all_song_lines)\n",
        "\n",
        "''' Build our data sets for the line modeler. '''\n",
        "\n",
        "# An (input, max_line_length, encoding_dimension) shaped tensor\n",
        "line_encoder_input_data = np.zeros(shape = (num_song_lines, max_line_length, latent_dim))\n",
        "\n",
        "# Same shape as input\n",
        "line_decoder_target_data = np.zeros(shape = (num_song_lines, max_line_length, latent_dim))\n",
        "\n",
        "# All extra padding should be encoded as NULL tokens.\n",
        "for i, line in enumerate(all_song_lines):\n",
        "  for j, encoding in enumerate(line):\n",
        "    line_encoder_input_data[i, j, : ] = encoding\n",
        "    if j > 0:\n",
        "      line_decoder_target_data[i, j - 1, : ] = encoding"
      ],
      "execution_count": 0,
      "outputs": []
    },
    {
      "cell_type": "code",
      "metadata": {
        "id": "rLFwcHtG0FYU",
        "colab_type": "code",
        "colab": {}
      },
      "source": [
        "# Shuffle and split our data.\n",
        "line_encoder_input_data, line_encoder_test, line_decoder_target_data, line_decoder_test = train_test_split(\n",
        "    line_encoder_input_data, line_decoder_target_data,\n",
        "    test_size = 0.3,\n",
        "    random_state = 42,\n",
        "    shuffle = True\n",
        ")"
      ],
      "execution_count": 0,
      "outputs": []
    },
    {
      "cell_type": "code",
      "metadata": {
        "id": "VA2SiOMj1ckA",
        "colab_type": "code",
        "colab": {}
      },
      "source": [
        "# Set our new constants\n",
        "line_batch_size = 24\n",
        "line_epochs = 200\n",
        "line_latent_dim = 512\n",
        "line_intermediate_dim = 64\n",
        "epsilon_std = 1.0"
      ],
      "execution_count": 0,
      "outputs": []
    },
    {
      "cell_type": "code",
      "metadata": {
        "id": "Y3XyAEhT3jZj",
        "colab_type": "code",
        "colab": {}
      },
      "source": [
        "K.clear_session()"
      ],
      "execution_count": 0,
      "outputs": []
    },
    {
      "cell_type": "code",
      "metadata": {
        "id": "0Nv3wHn31ly-",
        "colab_type": "code",
        "colab": {
          "base_uri": "https://localhost:8080/",
          "height": 476
        },
        "outputId": "c041944f-94e4-47f8-b47f-4b06f7e83fb0"
      },
      "source": [
        "x = keras.layers.Input(shape = (max_line_length, latent_dim,), batch_size=line_batch_size)\n",
        "h = keras.layers.GRU(line_intermediate_dim, return_sequences=False)(x)\n",
        "h = keras.layers.Dense(line_intermediate_dim, activation = 'linear')(h)\n",
        "z_mean = keras.layers.Dense(line_latent_dim)(h)\n",
        "z_log_sigma = keras.layers.Dense(line_latent_dim)(h)\n",
        "\n",
        "def sampling(args):\n",
        "  z_mean, z_log_sigma = args\n",
        "  epsilon = K.random_normal(shape = (line_batch_size, line_latent_dim),\n",
        "                            mean = 0., stddev = epsilon_std)\n",
        "  return z_mean + K.exp(z_log_sigma) * epsilon\n",
        "\n",
        "z = keras.layers.Lambda(sampling, output_shape = (line_latent_dim,))([z_mean, z_log_sigma])\n",
        "\n",
        "repeated_context = keras.layers.RepeatVector(max_line_length)\n",
        "\n",
        "decoder_h = keras.layers.GRU(line_intermediate_dim, return_sequences = True)\n",
        "decoder_mean = keras.layers.GRU(latent_dim, return_sequences=True)\n",
        "\n",
        "h_decoded = decoder_h(repeated_context(z))\n",
        "x_decoded_mean = decoder_mean(h_decoded)\n",
        "\n",
        "vae = keras.models.Model(x, x_decoded_mean)\n",
        "\n",
        "encoder = keras.models.Model(x, z_mean)\n",
        "\n",
        "line_decoder_input = keras.layers.Input(shape = (line_latent_dim,))\n",
        "_h_decoded = decoder_h(repeated_context(line_decoder_input))\n",
        "_x_decoded_mean = decoder_mean(_h_decoded)\n",
        "generator = keras.models.Model(line_decoder_input, _x_decoded_mean)\n",
        "\n",
        "def vae_loss(x, x_decoded_mean):\n",
        "  xent_loss = keras.losses.mse(x, x_decoded_mean)\n",
        "  kl_loss = - 0.5 * K.mean(1 + z_log_sigma - K.square(z_mean) - K.exp(z_log_sigma))\n",
        "  loss = xent_loss + kl_loss\n",
        "  return loss\n",
        "\n",
        "# keras.utils.plot_model(vae, show_shapes = True, show_layer_names = True)\n",
        "vae.summary()"
      ],
      "execution_count": 337,
      "outputs": [
        {
          "output_type": "stream",
          "text": [
            "Model: \"model_73\"\n",
            "__________________________________________________________________________________________________\n",
            "Layer (type)                    Output Shape         Param #     Connected to                     \n",
            "==================================================================================================\n",
            "input_63 (InputLayer)           [(24, 22, 256)]      0                                            \n",
            "__________________________________________________________________________________________________\n",
            "gru_56 (GRU)                    (24, 64)             61632       input_63[0][0]                   \n",
            "__________________________________________________________________________________________________\n",
            "dense_107 (Dense)               (24, 64)             4160        gru_56[0][0]                     \n",
            "__________________________________________________________________________________________________\n",
            "dense_108 (Dense)               (24, 512)            33280       dense_107[0][0]                  \n",
            "__________________________________________________________________________________________________\n",
            "dense_109 (Dense)               (24, 512)            33280       dense_107[0][0]                  \n",
            "__________________________________________________________________________________________________\n",
            "lambda_34 (Lambda)              (24, 512)            0           dense_108[0][0]                  \n",
            "                                                                 dense_109[0][0]                  \n",
            "__________________________________________________________________________________________________\n",
            "repeat_vector_30 (RepeatVector) multiple             0           lambda_34[0][0]                  \n",
            "__________________________________________________________________________________________________\n",
            "gru_57 (GRU)                    multiple             110784      repeat_vector_30[0][0]           \n",
            "__________________________________________________________________________________________________\n",
            "gru_58 (GRU)                    multiple             246528      gru_57[0][0]                     \n",
            "==================================================================================================\n",
            "Total params: 489,664\n",
            "Trainable params: 489,664\n",
            "Non-trainable params: 0\n",
            "__________________________________________________________________________________________________\n"
          ],
          "name": "stdout"
        }
      ]
    },
    {
      "cell_type": "code",
      "metadata": {
        "id": "nkyvohKsEGeQ",
        "colab_type": "code",
        "colab": {
          "base_uri": "https://localhost:8080/",
          "height": 511
        },
        "outputId": "3bffcc74-0bb9-41e5-f765-e6f371784a65"
      },
      "source": [
        "vae.compile(optimizer = 'rmsprop', loss = vae_loss)\n",
        "vae.fit(line_encoder_input_data, line_decoder_target_data,\n",
        "        shuffle = True,\n",
        "        epochs = line_epochs,\n",
        "        batch_size = line_batch_size,\n",
        "        validation_split = 0.2)"
      ],
      "execution_count": 338,
      "outputs": [
        {
          "output_type": "stream",
          "text": [
            "Train on 221 samples, validate on 56 samples\n",
            "Epoch 1/200\n",
            "216/221 [============================>.] - ETA: 0s - loss: 0.1449"
          ],
          "name": "stdout"
        },
        {
          "output_type": "error",
          "ename": "InvalidArgumentError",
          "evalue": "ignored",
          "traceback": [
            "\u001b[0;31m---------------------------------------------------------------------------\u001b[0m",
            "\u001b[0;31mInvalidArgumentError\u001b[0m                      Traceback (most recent call last)",
            "\u001b[0;32m<ipython-input-338-3595c7e7097f>\u001b[0m in \u001b[0;36m<module>\u001b[0;34m()\u001b[0m\n\u001b[1;32m      4\u001b[0m         \u001b[0mepochs\u001b[0m \u001b[0;34m=\u001b[0m \u001b[0mline_epochs\u001b[0m\u001b[0;34m,\u001b[0m\u001b[0;34m\u001b[0m\u001b[0;34m\u001b[0m\u001b[0m\n\u001b[1;32m      5\u001b[0m         \u001b[0mbatch_size\u001b[0m \u001b[0;34m=\u001b[0m \u001b[0mline_batch_size\u001b[0m\u001b[0;34m,\u001b[0m\u001b[0;34m\u001b[0m\u001b[0;34m\u001b[0m\u001b[0m\n\u001b[0;32m----> 6\u001b[0;31m         validation_split = 0.2)\n\u001b[0m",
            "\u001b[0;32m/tensorflow-1.15.2/python3.6/tensorflow_core/python/keras/engine/training.py\u001b[0m in \u001b[0;36mfit\u001b[0;34m(self, x, y, batch_size, epochs, verbose, callbacks, validation_split, validation_data, shuffle, class_weight, sample_weight, initial_epoch, steps_per_epoch, validation_steps, validation_freq, max_queue_size, workers, use_multiprocessing, **kwargs)\u001b[0m\n\u001b[1;32m    725\u001b[0m         \u001b[0mmax_queue_size\u001b[0m\u001b[0;34m=\u001b[0m\u001b[0mmax_queue_size\u001b[0m\u001b[0;34m,\u001b[0m\u001b[0;34m\u001b[0m\u001b[0;34m\u001b[0m\u001b[0m\n\u001b[1;32m    726\u001b[0m         \u001b[0mworkers\u001b[0m\u001b[0;34m=\u001b[0m\u001b[0mworkers\u001b[0m\u001b[0;34m,\u001b[0m\u001b[0;34m\u001b[0m\u001b[0;34m\u001b[0m\u001b[0m\n\u001b[0;32m--> 727\u001b[0;31m         use_multiprocessing=use_multiprocessing)\n\u001b[0m\u001b[1;32m    728\u001b[0m \u001b[0;34m\u001b[0m\u001b[0m\n\u001b[1;32m    729\u001b[0m   def evaluate(self,\n",
            "\u001b[0;32m/tensorflow-1.15.2/python3.6/tensorflow_core/python/keras/engine/training_arrays.py\u001b[0m in \u001b[0;36mfit\u001b[0;34m(self, model, x, y, batch_size, epochs, verbose, callbacks, validation_split, validation_data, shuffle, class_weight, sample_weight, initial_epoch, steps_per_epoch, validation_steps, validation_freq, **kwargs)\u001b[0m\n\u001b[1;32m    673\u001b[0m         \u001b[0mvalidation_steps\u001b[0m\u001b[0;34m=\u001b[0m\u001b[0mvalidation_steps\u001b[0m\u001b[0;34m,\u001b[0m\u001b[0;34m\u001b[0m\u001b[0;34m\u001b[0m\u001b[0m\n\u001b[1;32m    674\u001b[0m         \u001b[0mvalidation_freq\u001b[0m\u001b[0;34m=\u001b[0m\u001b[0mvalidation_freq\u001b[0m\u001b[0;34m,\u001b[0m\u001b[0;34m\u001b[0m\u001b[0;34m\u001b[0m\u001b[0m\n\u001b[0;32m--> 675\u001b[0;31m         steps_name='steps_per_epoch')\n\u001b[0m\u001b[1;32m    676\u001b[0m \u001b[0;34m\u001b[0m\u001b[0m\n\u001b[1;32m    677\u001b[0m   def evaluate(self,\n",
            "\u001b[0;32m/tensorflow-1.15.2/python3.6/tensorflow_core/python/keras/engine/training_arrays.py\u001b[0m in \u001b[0;36mmodel_iteration\u001b[0;34m(model, inputs, targets, sample_weights, batch_size, epochs, verbose, callbacks, val_inputs, val_targets, val_sample_weights, shuffle, initial_epoch, steps_per_epoch, validation_steps, validation_freq, mode, validation_in_fit, prepared_feed_values_from_dataset, steps_name, **kwargs)\u001b[0m\n\u001b[1;32m    392\u001b[0m \u001b[0;34m\u001b[0m\u001b[0m\n\u001b[1;32m    393\u001b[0m         \u001b[0;31m# Get outputs.\u001b[0m\u001b[0;34m\u001b[0m\u001b[0;34m\u001b[0m\u001b[0;34m\u001b[0m\u001b[0m\n\u001b[0;32m--> 394\u001b[0;31m         \u001b[0mbatch_outs\u001b[0m \u001b[0;34m=\u001b[0m \u001b[0mf\u001b[0m\u001b[0;34m(\u001b[0m\u001b[0mins_batch\u001b[0m\u001b[0;34m)\u001b[0m\u001b[0;34m\u001b[0m\u001b[0;34m\u001b[0m\u001b[0m\n\u001b[0m\u001b[1;32m    395\u001b[0m         \u001b[0;32mif\u001b[0m \u001b[0;32mnot\u001b[0m \u001b[0misinstance\u001b[0m\u001b[0;34m(\u001b[0m\u001b[0mbatch_outs\u001b[0m\u001b[0;34m,\u001b[0m \u001b[0mlist\u001b[0m\u001b[0;34m)\u001b[0m\u001b[0;34m:\u001b[0m\u001b[0;34m\u001b[0m\u001b[0;34m\u001b[0m\u001b[0m\n\u001b[1;32m    396\u001b[0m           \u001b[0mbatch_outs\u001b[0m \u001b[0;34m=\u001b[0m \u001b[0;34m[\u001b[0m\u001b[0mbatch_outs\u001b[0m\u001b[0;34m]\u001b[0m\u001b[0;34m\u001b[0m\u001b[0;34m\u001b[0m\u001b[0m\n",
            "\u001b[0;32m/tensorflow-1.15.2/python3.6/tensorflow_core/python/keras/backend.py\u001b[0m in \u001b[0;36m__call__\u001b[0;34m(self, inputs)\u001b[0m\n\u001b[1;32m   3474\u001b[0m \u001b[0;34m\u001b[0m\u001b[0m\n\u001b[1;32m   3475\u001b[0m     fetched = self._callable_fn(*array_vals,\n\u001b[0;32m-> 3476\u001b[0;31m                                 run_metadata=self.run_metadata)\n\u001b[0m\u001b[1;32m   3477\u001b[0m     \u001b[0mself\u001b[0m\u001b[0;34m.\u001b[0m\u001b[0m_call_fetch_callbacks\u001b[0m\u001b[0;34m(\u001b[0m\u001b[0mfetched\u001b[0m\u001b[0;34m[\u001b[0m\u001b[0;34m-\u001b[0m\u001b[0mlen\u001b[0m\u001b[0;34m(\u001b[0m\u001b[0mself\u001b[0m\u001b[0;34m.\u001b[0m\u001b[0m_fetches\u001b[0m\u001b[0;34m)\u001b[0m\u001b[0;34m:\u001b[0m\u001b[0;34m]\u001b[0m\u001b[0;34m)\u001b[0m\u001b[0;34m\u001b[0m\u001b[0;34m\u001b[0m\u001b[0m\n\u001b[1;32m   3478\u001b[0m     output_structure = nest.pack_sequence_as(\n",
            "\u001b[0;32m/tensorflow-1.15.2/python3.6/tensorflow_core/python/client/session.py\u001b[0m in \u001b[0;36m__call__\u001b[0;34m(self, *args, **kwargs)\u001b[0m\n\u001b[1;32m   1470\u001b[0m         ret = tf_session.TF_SessionRunCallable(self._session._session,\n\u001b[1;32m   1471\u001b[0m                                                \u001b[0mself\u001b[0m\u001b[0;34m.\u001b[0m\u001b[0m_handle\u001b[0m\u001b[0;34m,\u001b[0m \u001b[0margs\u001b[0m\u001b[0;34m,\u001b[0m\u001b[0;34m\u001b[0m\u001b[0;34m\u001b[0m\u001b[0m\n\u001b[0;32m-> 1472\u001b[0;31m                                                run_metadata_ptr)\n\u001b[0m\u001b[1;32m   1473\u001b[0m         \u001b[0;32mif\u001b[0m \u001b[0mrun_metadata\u001b[0m\u001b[0;34m:\u001b[0m\u001b[0;34m\u001b[0m\u001b[0;34m\u001b[0m\u001b[0m\n\u001b[1;32m   1474\u001b[0m           \u001b[0mproto_data\u001b[0m \u001b[0;34m=\u001b[0m \u001b[0mtf_session\u001b[0m\u001b[0;34m.\u001b[0m\u001b[0mTF_GetBuffer\u001b[0m\u001b[0;34m(\u001b[0m\u001b[0mrun_metadata_ptr\u001b[0m\u001b[0;34m)\u001b[0m\u001b[0;34m\u001b[0m\u001b[0;34m\u001b[0m\u001b[0m\n",
            "\u001b[0;31mInvalidArgumentError\u001b[0m: 2 root error(s) found.\n  (0) Invalid argument: Incompatible shapes: [5,64] vs. [24,64]\n\t [[{{node gru_56/while/add_2}}]]\n\t [[loss_23/mul/_2189]]\n  (1) Invalid argument: Incompatible shapes: [5,64] vs. [24,64]\n\t [[{{node gru_56/while/add_2}}]]\n0 successful operations.\n0 derived errors ignored."
          ]
        }
      ]
    },
    {
      "cell_type": "code",
      "metadata": {
        "id": "MmodRoor4UZK",
        "colab_type": "code",
        "colab": {}
      },
      "source": [
        "def gen_word(encoding):\n",
        "  states = encoding\n",
        "  # Create our '<beg>' token\n",
        "  prev_phone = np.zeros(shape = (1, 1, num_phonemes))\n",
        "  prev_phone[0, 0, -2] = 1\n",
        "\n",
        "  end_reached = False\n",
        "  pronunciation = '<beg>'\n",
        "  i = 0\n",
        "  while not end_reached:\n",
        "    decoder_output, states = prediction_model.predict([prev_phone] + [states])\n",
        "    predicted_phone = index_phone[np.argmax(decoder_output)]\n",
        "    pronunciation += ' ' + predicted_phone\n",
        "    if predicted_phone == '<end>':\n",
        "      end_reached = True\n",
        "    i += 1\n",
        "    if i == 30:\n",
        "      end_reached = True\n",
        "    prev_phone = np.zeros(shape = (1, 1, num_phonemes))\n",
        "    prev_phone[0, 0, phone_index[predicted_phone]] = 1\n",
        "  return pronunciation\n"
      ],
      "execution_count": 0,
      "outputs": []
    },
    {
      "cell_type": "code",
      "metadata": {
        "id": "r9PLRihW8M2g",
        "colab_type": "code",
        "colab": {
          "base_uri": "https://localhost:8080/",
          "height": 34
        },
        "outputId": "0b58ef52-3490-46ee-94f5-51941ed9063e"
      },
      "source": [
        "gen_word(encode_word(\"APPLE\"))"
      ],
      "execution_count": 258,
      "outputs": [
        {
          "output_type": "execute_result",
          "data": {
            "text/plain": [
              "'<beg> L AE1 N D <end>'"
            ]
          },
          "metadata": {
            "tags": []
          },
          "execution_count": 258
        }
      ]
    }
  ]
}