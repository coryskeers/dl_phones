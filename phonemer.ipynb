{
  "nbformat": 4,
  "nbformat_minor": 0,
  "metadata": {
    "colab": {
      "name": "phonemer.ipynb",
      "provenance": [],
      "collapsed_sections": [],
      "authorship_tag": "ABX9TyMt9oeLbGFJyLAvzSHTCJuJ",
      "include_colab_link": true
    },
    "kernelspec": {
      "name": "python3",
      "display_name": "Python 3"
    }
  },
  "cells": [
    {
      "cell_type": "markdown",
      "metadata": {
        "id": "view-in-github",
        "colab_type": "text"
      },
      "source": [
        "<a href=\"https://colab.research.google.com/github/coryskeers/dl_phones/blob/master/phonemer.ipynb\" target=\"_parent\"><img src=\"https://colab.research.google.com/assets/colab-badge.svg\" alt=\"Open In Colab\"/></a>"
      ]
    },
    {
      "cell_type": "code",
      "metadata": {
        "id": "LPif5kGGcQlE",
        "colab_type": "code",
        "colab": {}
      },
      "source": [
        "# Download updated CMU ARPABET dictionaries and definitions if they aren't available:\n",
        "import os.path\n",
        "\n",
        "if not os.path.exists('cmudict-0.7b.symbols'):\n",
        "  !wget http://svn.code.sf.net/p/cmusphinx/code/trunk/cmudict/cmudict-0.7b.symbols\n",
        "#!wget http://svn.code.sf.net/p/cmusphinx/code/trunk/cmudict/cmudict-0.7b.phones\n",
        "if not os.path.exists('cmudict-0.7b'):\n",
        "  !wget http://svn.code.sf.net/p/cmusphinx/code/trunk/cmudict/cmudict-0.7b\n",
        "\n",
        "# Build our phoneme descriptions\n",
        "# Based on 'Poetic Sound Similarity Vectors Using Phonetic Features' which uses X-SAMPA phoneme descriptions\n",
        "# Allison Parrish; 2017\n",
        "# https://aaai.org/ocs/index.php/AIIDE/AIIDE17/paper/download/15879/15227\n",
        "phone_defs = {\n",
        "    'AA' : ['bck', 'low', 'unr', 'vwl'],\n",
        "    'AE' : ['fnt', 'low', 'unr', 'vwl'],\n",
        "    'AH' : ['cnt', 'mid', 'unr', 'vwl'],\n",
        "    'AO' : ['bck', 'lmd', 'rnd', 'vwl'],\n",
        "    'AW' : ['bck', 'cnt', 'low', 'rnd', 'smh', 'unr', 'vwl'],\n",
        "    'AY' : ['cnt', 'fnt', 'low', 'smh', 'unr', 'vwl'],\n",
        "    'B' : ['blb', 'stp', 'vcd'],\n",
        "    'CH' : ['alv', 'frc', 'stp', 'vls'],\n",
        "    'D' : ['alv', 'stp', 'vcd'],\n",
        "    'DH' : ['dnt', 'frc', 'vcd'],\n",
        "    'EH' : ['fnt', 'lmd', 'unr', 'vwl'],\n",
        "    'ER' : ['cnt', 'rzd', 'umd', 'vwl'],\n",
        "    'EY' : ['fnt', 'lmd', 'smh', 'unr', 'vwl'],\n",
        "    'F' : ['frc', 'lbd', 'vls'],\n",
        "    'G' : ['stp', 'vcd', 'vel'],\n",
        "    'HH' : ['apr', 'glt'],\n",
        "    'IH' : ['fnt', 'smh', 'unr', 'vwl'],\n",
        "    'IY' : ['fnt', 'hgh', 'unr', 'vwl'],\n",
        "    'JH' : ['alv', 'frc', 'stp', 'vcd'],\n",
        "    'K' : ['stp', 'vel', 'vls'],\n",
        "    'L' : ['alv', 'lat'],\n",
        "    'M' : ['blb', 'nas'],\n",
        "    'N' : ['alv', 'nas'],\n",
        "    'NG' : ['nas', 'vel'],\n",
        "    'OW' : ['bck', 'rnd', 'smh', 'umd', 'vwl'],\n",
        "    'OY' : ['bck', 'fnt', 'lmd', 'rnd', 'smh', 'unr', 'vwl'],\n",
        "    'P' : ['blb', 'stp', 'vls'],\n",
        "    'R' : ['alv', 'apr'],\n",
        "    'S' : ['alv', 'frc', 'vls'],\n",
        "    'SH' : ['frc', 'pla', 'vls'],\n",
        "    'T' : ['alv', 'stp', 'vls'],\n",
        "    'TH' : ['dnt', 'frc', 'vls'],\n",
        "    'UH' : ['bck', 'rnd', 'smh', 'vwl'],\n",
        "    'UW' : ['bck', 'hgh', 'rnd', 'vwl'],\n",
        "    'V' : ['frc', 'lbd', 'vcd'],\n",
        "    'W' : ['apr', 'lbv'],\n",
        "    'Y' : ['apr', 'pal'],\n",
        "    'Z' : ['alv', 'frc', 'vcd'],\n",
        "    'ZH' : ['frc', 'pla', 'vcd']\n",
        "}\n",
        "\n",
        "# Get all symbol combos and create an indexer\n",
        "with open('cmudict-0.7b.symbols') as symfile:\n",
        "  phone_index = {}\n",
        "  for i, line in enumerate(symfile):\n",
        "    phone_index[line.strip()] = i\n",
        "\n",
        "# Get our word-phoneme dict. First 69 lines are documentation and/or symbol pronunciations.\n",
        "with open('cmudict-0.7b', encoding = 'latin-1') as pronfile:\n",
        "  word_pron = {}\n",
        "  pron_word = {}\n",
        "  for _ in range(69):\n",
        "    next(pronfile)\n",
        "  for line in pronfile:\n",
        "    entry = line.strip().split('  ', 1)\n",
        "    # Add a 'break' token at the beginning and end of the word\n",
        "    word_pron[entry[0]] = ['<beg>'] + entry[1].split() + ['<end>']\n",
        "    pron_word[entry[1]] = entry[0]"
      ],
      "execution_count": 0,
      "outputs": []
    },
    {
      "cell_type": "code",
      "metadata": {
        "id": "a6Er7hMiduN8",
        "colab_type": "code",
        "colab": {}
      },
      "source": [
        "import numpy as np\n",
        "\n",
        "# Vectorize our individual phonemes.\n",
        "\n",
        "attrs = set()\n",
        "for values in phone_defs.values():\n",
        "  attrs.update(values)\n",
        "attrs = sorted(list(attrs))\n",
        "# Create our attribute indexer.\n",
        "attr_indexer = {}\n",
        "for i, attr in enumerate(attrs):\n",
        "  attr_indexer[attr] = i\n",
        "\n",
        "# 29 X-SAMPA attributes, 3 syllabic emphases, 1 pause attribute. 33 total.\n",
        "# 84 phonemes, including syllabic emphases. 2 pauses: <beg> and <end>\n",
        "# Phoneme matrix an 86 x 33 matrix.\n",
        "phoneme_matrix = np.zeros(shape = (86, 33))\n",
        "for phone, index in phone_index.items():\n",
        "  if len(phone) == 3:\n",
        "    # Mark our syllabic emphasis, which is on a scale of 0 - 2; leaving room at the end for our space.\n",
        "    phoneme_matrix[index, -(4 - int(phone[-1]))] = 1\n",
        "    phone = phone[:2]\n",
        "  for attr in phone_defs[phone]:\n",
        "    phoneme_matrix[index, attr_indexer[attr]] = 1\n",
        "#Add our spacers.\n",
        "phoneme_matrix[84, -1] = 1\n",
        "phoneme_matrix[85, -1] = 1"
      ],
      "execution_count": 0,
      "outputs": []
    },
    {
      "cell_type": "markdown",
      "metadata": {
        "id": "r53IvhMVil7v",
        "colab_type": "text"
      },
      "source": [
        "Here we have an 86 x 33 np matrix of our phoneme embeddings. Each row represents a phoneme (varying syllabic emphases are treated separately), as well as 2 spacer tokens (`<beg>` and `<end>`). First 29 columns are the X-SAMPA attributes. Next 3 are varying syllabic emphases. Final is the 'pause' attribute."
      ]
    },
    {
      "cell_type": "code",
      "metadata": {
        "id": "2i10ppxGiRvT",
        "colab_type": "code",
        "colab": {
          "base_uri": "https://localhost:8080/",
          "height": 34
        },
        "outputId": "4d3ddb5a-8520-430f-8866-01b8fddfd388"
      },
      "source": [
        "sum(phoneme_matrix[:, -1])"
      ],
      "execution_count": 34,
      "outputs": [
        {
          "output_type": "execute_result",
          "data": {
            "text/plain": [
              "2.0"
            ]
          },
          "metadata": {
            "tags": []
          },
          "execution_count": 34
        }
      ]
    }
  ]
}